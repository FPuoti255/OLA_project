{
 "cells": [
  {
   "cell_type": "code",
   "execution_count": 1,
   "metadata": {
    "id": "H-O31_CnmTAB"
   },
   "outputs": [],
   "source": [
    "import numpy as np\n",
    "from copy import copy"
   ]
  },
  {
   "cell_type": "code",
   "execution_count": 2,
   "metadata": {
    "id": "zdmVRkwKmaWe"
   },
   "outputs": [],
   "source": [
    "def simulate_episode(init_prob_matrix, n_steps_max):\n",
    "  prob_matrix = init_prob_matrix.copy()\n",
    "  n_nodes = prob_matrix.shape[0]\n",
    "  # the probality that a node is active at the beginning is given by a\n",
    "  # binomial distribution with p = 0.1\n",
    "  initial_active_nodes = np.random.binomial(1, 0.1, size=(n_nodes))\n",
    "  # the matrix that holds the active nodes for each episode\n",
    "  history = np.array([initial_active_nodes])\n",
    "  # active_nodes keeps track of the active nodes at the current episode,\n",
    "  # it's initialized with the initial active nodes\n",
    "  active_nodes = initial_active_nodes\n",
    "  newly_active_nodes = active_nodes\n",
    "  t = 0\n",
    "  while(t<n_steps_max and np.sum(newly_active_nodes)>0):\n",
    "    # p is a n_nodes x n_nodes probability matrix where only the\n",
    "    # columns corresponding to the active nodes are not zero\n",
    "    p = (prob_matrix.T * active_nodes).T\n",
    "    activated_edges = p > np.random.rand(p.shape[0], p.shape[1])\n",
    "    # we remove from the values of the probability matrix all the\n",
    "    # values of previously activated nodes   \n",
    "    prob_matrix = prob_matrix * ((p!=0)==activated_edges)\n",
    "    # the new activated nodes are the ones in which at least on\n",
    "    # of its edges has been activated in the previous step \n",
    "    newly_active_nodes = (np.sum(activated_edges, axis=0) > 0) * (1 - active_nodes)\n",
    "    active_nodes = np.array(active_nodes + newly_active_nodes)\n",
    "    history = np.concatenate((history, [newly_active_nodes]), axis=0)\n",
    "    t+=1\n",
    "    \n",
    "  return history"
   ]
  },
  {
   "cell_type": "code",
   "execution_count": 3,
   "metadata": {
    "id": "N8iqvSW9S2lm"
   },
   "outputs": [],
   "source": [
    "def estimate_probabilities(dataset, node_index, n_nodes):\n",
    "  # we start by assigning equal probability to each edge \n",
    "  estimated_prob = np.ones(n_nodes)*1.0/(n_nodes - 1)\n",
    "  credits = np.zeros(n_nodes)\n",
    "  # stores the occurences of each node in each episode\n",
    "  occur_v_active = np.zeros(n_nodes)\n",
    "  n_episodes = len(dataset)\n",
    "\n",
    "  for episode in dataset:\n",
    "    # store in which timestamp the w node has been active\n",
    "    idx_w_active = np.argwhere(episode[:, node_index].reshape(-1))\n",
    "    # we check which where the nodes active in the previous step\n",
    "    if len(idx_w_active) > 0 and idx_w_active > 0:\n",
    "      active_nodes_in_prev_step = episode[idx_w_active - 1, :].reshape(-1)\n",
    "      credits += active_nodes_in_prev_step/np.sum(active_nodes_in_prev_step)\n",
    "    # we check the occurences of every node\n",
    "    for v in range(0, n_nodes):\n",
    "      if(v!=node_index):\n",
    "        idx_v_active = np.argwhere(episode[:, v] == 1).reshape(-1)\n",
    "        if len(idx_v_active)>0 and (idx_v_active<idx_w_active or len(idx_w_active)==0):\n",
    "          occur_v_active[v]+=1\n",
    "\n",
    "  estimated_prob = credits/occur_v_active\n",
    "  estimated_prob = np.nan_to_num(estimated_prob)\n",
    "  return estimated_prob"
   ]
  },
  {
   "cell_type": "code",
   "execution_count": 6,
   "metadata": {
    "colab": {
     "base_uri": "https://localhost:8080/"
    },
    "id": "RN8D70owSGGa",
    "outputId": "618c222f-0755-468b-f33a-271179629d5c"
   },
   "outputs": [
    {
     "name": "stderr",
     "output_type": "stream",
     "text": [
      "<ipython-input-3-b61f062306f8>:20: DeprecationWarning: The truth value of an empty array is ambiguous. Returning False, but in future this will result in an error. Use `array.size > 0` to check that an array is not empty.\n",
      "  if len(idx_v_active)>0 and (idx_v_active<idx_w_active or len(idx_w_active)==0):\n",
      "<ipython-input-3-b61f062306f8>:23: RuntimeWarning: invalid value encountered in true_divide\n",
      "  estimated_prob = credits/occur_v_active\n"
     ]
    },
    {
     "name": "stdout",
     "output_type": "stream",
     "text": [
      "True P Matrix [0.08347209 0.07339236 0.00082711 0.0787517  0.07698386]\n",
      "Estimated P Matrix [0.         0.07422969 0.08630952 0.11111111 0.06635802]\n",
      "True P Matrix [0.08347209 0.07339236 0.00082711 0.0787517  0.07698386]\n",
      "Estimated P Matrix [0.03367003 0.         0.10660661 0.0270936  0.05906149]\n",
      "True P Matrix [0.08347209 0.07339236 0.00082711 0.0787517  0.07698386]\n",
      "Estimated P Matrix [0.09795322 0.07652505 0.         0.09256329 0.10507246]\n",
      "True P Matrix [0.08347209 0.07339236 0.00082711 0.0787517  0.07698386]\n",
      "Estimated P Matrix [0.07897033 0.08873975 0.0408461  0.         0.07011494]\n",
      "True P Matrix [0.08347209 0.07339236 0.00082711 0.0787517  0.07698386]\n",
      "Estimated P Matrix [0.03162055 0.05003127 0.04288321 0.01708575 0.        ]\n"
     ]
    }
   ],
   "source": [
    "n_nodes = 5\n",
    "n_episodes = 1000\n",
    "prob_matrix = np.random.uniform(0.0, 0.1, (n_nodes, n_nodes))\n",
    "node_index = 2\n",
    "dataset = []\n",
    "matrix = []\n",
    "\n",
    "for i in range(1,n_nodes+1):\n",
    "    for e in range(0, n_episodes):\n",
    "      dataset.append(simulate_episode(init_prob_matrix=prob_matrix, n_steps_max=10))\n",
    "\n",
    "    estimated_prob = estimate_probabilities(dataset=dataset, node_index=i, n_nodes=n_nodes)\n",
    "    matrix.append(estimated_prob)\n",
    "\n",
    "    print(\"True P Matrix\", prob_matrix[:,node_index])\n",
    "    print(\"Estimated P Matrix\", estimated_prob)"
   ]
  }
 ],
 "metadata": {
  "colab": {
   "collapsed_sections": [],
   "name": "Learning_Influence_Probabilities.ipynb",
   "provenance": []
  },
  "kernelspec": {
   "display_name": "Python 3",
   "language": "python",
   "name": "python3"
  },
  "language_info": {
   "codemirror_mode": {
    "name": "ipython",
    "version": 3
   },
   "file_extension": ".py",
   "mimetype": "text/x-python",
   "name": "python",
   "nbconvert_exporter": "python",
   "pygments_lexer": "ipython3",
   "version": "3.8.8"
  }
 },
 "nbformat": 4,
 "nbformat_minor": 1
}
