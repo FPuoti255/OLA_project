{
  "nbformat": 4,
  "nbformat_minor": 0,
  "metadata": {
    "colab": {
      "name": "Learning_Influence_Probabilities.ipynb",
      "provenance": [],
      "collapsed_sections": []
    },
    "kernelspec": {
      "name": "python3",
      "display_name": "Python 3"
    },
    "language_info": {
      "name": "python"
    }
  },
  "cells": [
    {
      "cell_type": "code",
      "execution_count": 1,
      "metadata": {
        "id": "H-O31_CnmTAB"
      },
      "outputs": [],
      "source": [
        "import numpy as np\n",
        "from copy import copy"
      ]
    },
    {
      "cell_type": "code",
      "source": [
        "def simulate_episode(init_prob_matrix, n_steps_max):\n",
        "  prob_matrix = init_prob_matrix.copy()\n",
        "  n_nodes = prob_matrix.shape[0]\n",
        "  # the probality that a node is active at the beginning is given by a\n",
        "  # binomial distribution with p = 0.1\n",
        "  initial_active_nodes = np.random.binomial(1, 0.1, size=(n_nodes))\n",
        "  # the matrix that holds the active nodes for each episode\n",
        "  history = np.array([initial_active_nodes])\n",
        "  # active_nodes keeps track of the active nodes at the current episode,\n",
        "  # it's initialized with the initial active nodes\n",
        "  active_nodes = initial_active_nodes\n",
        "  newly_active_nodes = active_nodes\n",
        "  t = 0\n",
        "  while(t<n_steps_max and np.sum(newly_active_nodes)>0):\n",
        "    # p is a n_nodes x n_nodes probability matrix where only the\n",
        "    # columns corresponding to the active nodes are not zero\n",
        "    p = (prob_matrix.T * active_nodes).T\n",
        "    activated_edges = p > np.random.rand(p.shape[0], p.shape[1])\n",
        "    # we remove from the values of the probability matrix all the\n",
        "    # values of previously activated nodes   \n",
        "    prob_matrix = prob_matrix * ((p!=0)==activated_edges)\n",
        "    # the new activated nodes are the ones in which at least on\n",
        "    # of its edges has been activated in the previous step     \n",
        "    newly_active_nodes = (np.sum(activated_edges, axis=0) > 0) * (1 - active_nodes)\n",
        "    active_nodes = np.array(active_nodes + newly_active_nodes)\n",
        "    history = np.concatenate((history, [newly_active_nodes]), axis=0)\n",
        "    t+=1\n",
        "  return history"
      ],
      "metadata": {
        "id": "zdmVRkwKmaWe"
      },
      "execution_count": 6,
      "outputs": []
    },
    {
      "cell_type": "code",
      "source": [
        "def estimate_probabilities(dataset, node_index, n_nodes):\n",
        "  # we start by assigning equal probability to each edge \n",
        "  estimated_prob = np.ones(n_nodes)*1.0/(n_nodes - 1)\n",
        "  credits = np.zeros(n_nodes)\n",
        "  # stores the occurences of each node in each episode\n",
        "  occur_v_active = np.zeros(n_nodes)\n",
        "  n_episodes = len(dataset)\n",
        "\n",
        "  for episode in dataset:\n",
        "    # store in which timestamp the w node has been active\n",
        "    idx_w_active = np.argwhere(episode[:, node_index].reshape(-1))\n",
        "    # we check which where the nodes active in the previous step\n",
        "    if len(idx_w_active) > 0 and idx_w_active > 0:\n",
        "      active_nodes_in_prev_step = episode[idx_w_active - 1, :].reshape(-1)\n",
        "      credits += active_nodes_in_prev_step/np.sum(active_nodes_in_prev_step)\n",
        "    # we check the occurences of every node\n",
        "    for v in range(0, n_nodes):\n",
        "      if(v!=node_index):\n",
        "        idx_v_active = np.argwhere(episode[:, v] == 1).reshape(-1)\n",
        "        if len(idx_v_active)>0 and (idx_v_active<idx_w_active or len(idx_w_active)==0):\n",
        "          occur_v_active[v]+=1\n",
        "\n",
        "  estimated_prob = credits/occur_v_active\n",
        "  estimated_prob = np.nan_to_num(estimated_prob)\n",
        "  return estimated_prob"
      ],
      "metadata": {
        "id": "N8iqvSW9S2lm"
      },
      "execution_count": 3,
      "outputs": []
    },
    {
      "cell_type": "code",
      "source": [
        "n_nodes = 5\n",
        "n_episodes = 1000\n",
        "prob_matrix = np.random.uniform(0.0, 0.1, (n_nodes, n_nodes))\n",
        "node_index = 4\n",
        "dataset = []\n",
        "\n",
        "for e in range(0, n_episodes):\n",
        "  dataset.append(simulate_episode(init_prob_matrix=prob_matrix, n_steps_max=10))\n",
        "\n",
        "estimated_prob = estimate_probabilities(dataset=dataset, node_index=node_index, n_nodes=n_nodes)\n",
        "\n",
        "print(\"True P Matrix\", prob_matrix[:,4])\n",
        "print(\"Estimated P Matrix\", estimated_prob)"
      ],
      "metadata": {
        "colab": {
          "base_uri": "https://localhost:8080/"
        },
        "id": "RN8D70owSGGa",
        "outputId": "618c222f-0755-468b-f33a-271179629d5c"
      },
      "execution_count": 7,
      "outputs": [
        {
          "output_type": "stream",
          "name": "stdout",
          "text": [
            "True P Matrix [0.0277947  0.01018559 0.00809074 0.06230941 0.08101648]\n",
            "Estimated P Matrix [0.02951389 0.00609756 0.01257862 0.08250825 0.        ]\n"
          ]
        },
        {
          "output_type": "stream",
          "name": "stderr",
          "text": [
            "/usr/local/lib/python3.7/dist-packages/ipykernel_launcher.py:20: DeprecationWarning: The truth value of an empty array is ambiguous. Returning False, but in future this will result in an error. Use `array.size > 0` to check that an array is not empty.\n",
            "/usr/local/lib/python3.7/dist-packages/ipykernel_launcher.py:23: RuntimeWarning: invalid value encountered in true_divide\n"
          ]
        }
      ]
    }
  ]
}