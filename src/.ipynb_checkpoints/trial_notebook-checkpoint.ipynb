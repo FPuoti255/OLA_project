{
 "cells": [
  {
   "cell_type": "code",
   "execution_count": 2,
   "metadata": {},
   "outputs": [
    {
     "name": "stdout",
     "output_type": "stream",
     "text": [
      "The autoreload extension is already loaded. To reload it, use:\n",
      "  %reload_ext autoreload\n"
     ]
    }
   ],
   "source": [
    "# Lasciate questa cella così ogni volta che aggiornate un file python, \n",
    "# anche gli import nel notebook vengono aggiornati\n",
    "\n",
    "%load_ext autoreload\n",
    "%autoreload 2"
   ]
  },
  {
   "cell_type": "code",
   "execution_count": 3,
   "metadata": {},
   "outputs": [
    {
     "ename": "TypeError",
     "evalue": "'type' object is not subscriptable",
     "output_type": "error",
     "traceback": [
      "\u001b[1;31m---------------------------------------------------------------------------\u001b[0m",
      "\u001b[1;31mTypeError\u001b[0m                                 Traceback (most recent call last)",
      "\u001b[1;32m<ipython-input-3-f482a8d414dd>\u001b[0m in \u001b[0;36m<module>\u001b[1;34m\u001b[0m\n\u001b[1;32m----> 1\u001b[1;33m \u001b[1;32mfrom\u001b[0m \u001b[0mSimulation\u001b[0m \u001b[1;32mimport\u001b[0m \u001b[1;33m*\u001b[0m\u001b[1;33m\u001b[0m\u001b[1;33m\u001b[0m\u001b[0m\n\u001b[0m\u001b[0;32m      2\u001b[0m \u001b[1;32mfrom\u001b[0m \u001b[0mEnvironment\u001b[0m \u001b[1;32mimport\u001b[0m \u001b[1;33m*\u001b[0m\u001b[1;33m\u001b[0m\u001b[1;33m\u001b[0m\u001b[0m\n\u001b[0;32m      3\u001b[0m \u001b[1;33m\u001b[0m\u001b[0m\n\u001b[0;32m      4\u001b[0m \u001b[0mclick_probabilities\u001b[0m \u001b[1;33m=\u001b[0m \u001b[0mgenerate_click_probabilities\u001b[0m\u001b[1;33m(\u001b[0m\u001b[0mfully_connected\u001b[0m\u001b[1;33m=\u001b[0m\u001b[1;32mTrue\u001b[0m\u001b[1;33m)\u001b[0m\u001b[1;33m\u001b[0m\u001b[1;33m\u001b[0m\u001b[0m\n\u001b[0;32m      5\u001b[0m \u001b[0mobservations_probabilities\u001b[0m \u001b[1;33m=\u001b[0m \u001b[0mgenerate_observation_probabilities\u001b[0m\u001b[1;33m(\u001b[0m\u001b[0mclick_probabilities\u001b[0m\u001b[1;33m=\u001b[0m\u001b[0mclick_probabilities\u001b[0m\u001b[1;33m)\u001b[0m\u001b[1;33m\u001b[0m\u001b[1;33m\u001b[0m\u001b[0m\n",
      "\u001b[1;32mD:\\projects\\OLA_project\\src\\Simulation.py\u001b[0m in \u001b[0;36m<module>\u001b[1;34m\u001b[0m\n\u001b[0;32m      3\u001b[0m \u001b[1;33m\u001b[0m\u001b[0m\n\u001b[0;32m      4\u001b[0m \u001b[1;32mfrom\u001b[0m \u001b[0mUtils\u001b[0m \u001b[1;32mimport\u001b[0m \u001b[1;33m*\u001b[0m\u001b[1;33m\u001b[0m\u001b[1;33m\u001b[0m\u001b[0m\n\u001b[1;32m----> 5\u001b[1;33m \u001b[1;32mfrom\u001b[0m \u001b[0mEnvironment\u001b[0m \u001b[1;32mimport\u001b[0m \u001b[0mEnvironment\u001b[0m\u001b[1;33m\u001b[0m\u001b[1;33m\u001b[0m\u001b[0m\n\u001b[0m\u001b[0;32m      6\u001b[0m \u001b[1;32mfrom\u001b[0m \u001b[0mNetwork\u001b[0m \u001b[1;32mimport\u001b[0m \u001b[0mNetwork\u001b[0m\u001b[1;33m\u001b[0m\u001b[1;33m\u001b[0m\u001b[0m\n\u001b[0;32m      7\u001b[0m \u001b[1;33m\u001b[0m\u001b[0m\n",
      "\u001b[1;32mD:\\projects\\OLA_project\\src\\Environment.py\u001b[0m in \u001b[0;36m<module>\u001b[1;34m\u001b[0m\n\u001b[0;32m      4\u001b[0m \u001b[1;33m\u001b[0m\u001b[0m\n\u001b[0;32m      5\u001b[0m \u001b[1;32mfrom\u001b[0m \u001b[0mUtils\u001b[0m \u001b[1;32mimport\u001b[0m \u001b[1;33m*\u001b[0m\u001b[1;33m\u001b[0m\u001b[1;33m\u001b[0m\u001b[0m\n\u001b[1;32m----> 6\u001b[1;33m \u001b[1;32mfrom\u001b[0m \u001b[0mNetwork\u001b[0m \u001b[1;32mimport\u001b[0m \u001b[0mNetwork\u001b[0m\u001b[1;33m\u001b[0m\u001b[1;33m\u001b[0m\u001b[0m\n\u001b[0m\u001b[0;32m      7\u001b[0m \u001b[1;33m\u001b[0m\u001b[0m\n\u001b[0;32m      8\u001b[0m \u001b[1;33m\u001b[0m\u001b[0m\n",
      "\u001b[1;32mD:\\projects\\OLA_project\\src\\Network.py\u001b[0m in \u001b[0;36m<module>\u001b[1;34m\u001b[0m\n\u001b[0;32m      7\u001b[0m \u001b[1;33m\u001b[0m\u001b[0m\n\u001b[0;32m      8\u001b[0m \u001b[1;33m\u001b[0m\u001b[0m\n\u001b[1;32m----> 9\u001b[1;33m \u001b[1;32mclass\u001b[0m \u001b[0mNetwork\u001b[0m\u001b[1;33m:\u001b[0m\u001b[1;33m\u001b[0m\u001b[1;33m\u001b[0m\u001b[0m\n\u001b[0m\u001b[0;32m     10\u001b[0m     \u001b[1;32mdef\u001b[0m \u001b[0m__init__\u001b[0m\u001b[1;33m(\u001b[0m\u001b[0mself\u001b[0m\u001b[1;33m,\u001b[0m \u001b[0madjacency_matrix\u001b[0m\u001b[1;33m)\u001b[0m\u001b[1;33m:\u001b[0m\u001b[1;33m\u001b[0m\u001b[1;33m\u001b[0m\u001b[0m\n\u001b[0;32m     11\u001b[0m         \u001b[0mself\u001b[0m\u001b[1;33m.\u001b[0m\u001b[0mG\u001b[0m \u001b[1;33m=\u001b[0m \u001b[0mnx\u001b[0m\u001b[1;33m.\u001b[0m\u001b[0mfrom_numpy_matrix\u001b[0m\u001b[1;33m(\u001b[0m\u001b[0mA\u001b[0m\u001b[1;33m=\u001b[0m\u001b[0madjacency_matrix\u001b[0m\u001b[1;33m,\u001b[0m \u001b[0mcreate_using\u001b[0m\u001b[1;33m=\u001b[0m\u001b[0mnx\u001b[0m\u001b[1;33m.\u001b[0m\u001b[0mDiGraph\u001b[0m\u001b[1;33m)\u001b[0m\u001b[1;33m\u001b[0m\u001b[1;33m\u001b[0m\u001b[0m\n",
      "\u001b[1;32mD:\\projects\\OLA_project\\src\\Network.py\u001b[0m in \u001b[0;36mNetwork\u001b[1;34m()\u001b[0m\n\u001b[0;32m     40\u001b[0m \u001b[1;33m\u001b[0m\u001b[0m\n\u001b[0;32m     41\u001b[0m     \u001b[1;33m@\u001b[0m\u001b[0mstaticmethod\u001b[0m\u001b[1;33m\u001b[0m\u001b[1;33m\u001b[0m\u001b[0m\n\u001b[1;32m---> 42\u001b[1;33m     \u001b[1;32mdef\u001b[0m \u001b[0mprint_live_edge_graphs\u001b[0m\u001b[1;33m(\u001b[0m\u001b[0mG\u001b[0m\u001b[1;33m:\u001b[0m \u001b[0mnx\u001b[0m\u001b[1;33m.\u001b[0m\u001b[0mGraph\u001b[0m\u001b[1;33m,\u001b[0m \u001b[0msubplots\u001b[0m\u001b[1;33m:\u001b[0m \u001b[0mlist\u001b[0m\u001b[1;33m[\u001b[0m\u001b[0mdict\u001b[0m\u001b[1;33m]\u001b[0m\u001b[1;33m)\u001b[0m\u001b[1;33m:\u001b[0m\u001b[1;33m\u001b[0m\u001b[1;33m\u001b[0m\u001b[0m\n\u001b[0m\u001b[0;32m     43\u001b[0m \u001b[1;33m\u001b[0m\u001b[0m\n\u001b[0;32m     44\u001b[0m         \u001b[1;31m# plt.ion()\u001b[0m\u001b[1;33m\u001b[0m\u001b[1;33m\u001b[0m\u001b[1;33m\u001b[0m\u001b[0m\n",
      "\u001b[1;31mTypeError\u001b[0m: 'type' object is not subscriptable"
     ]
    }
   ],
   "source": [
    "from Simulation import *\n",
    "from Environment import *\n",
    "\n",
    "click_probabilities = generate_click_probabilities(fully_connected=True)\n",
    "observations_probabilities = generate_observation_probabilities(click_probabilities=click_probabilities)\n",
    "\n",
    "concentration_params = [100] + [70] * NUM_OF_PRODUCTS\n",
    "alpha_users = np.random.dirichlet( alpha= concentration_params, size = 1)\n",
    "\n",
    "\n",
    "product_prices, users_reservation_prices = generate_prices(product_range=100, users_range=100)\n",
    "tot_num_users = np.random.normal(loc=1000, scale=50)\n",
    "\n",
    "\n",
    "env = Environment(users_reservation_prices = users_reservation_prices,\n",
    "                    click_probabilities = click_probabilities,\n",
    "                    observations_probabilities = observations_probabilities,\n",
    "                    tot_num_users = tot_num_users)\n",
    "\n",
    "Network.print_graph(G=env.network.G)"
   ]
  },
  {
   "cell_type": "code",
   "execution_count": 4,
   "metadata": {},
   "outputs": [
    {
     "ename": "NameError",
     "evalue": "name 'env' is not defined",
     "output_type": "error",
     "traceback": [
      "\u001b[1;31m---------------------------------------------------------------------------\u001b[0m",
      "\u001b[1;31mNameError\u001b[0m                                 Traceback (most recent call last)",
      "\u001b[1;32m<ipython-input-4-6bbe963db99e>\u001b[0m in \u001b[0;36m<module>\u001b[1;34m\u001b[0m\n\u001b[1;32m----> 1\u001b[1;33m \u001b[0mnodes_activation_probabilities\u001b[0m \u001b[1;33m=\u001b[0m \u001b[0menv\u001b[0m\u001b[1;33m.\u001b[0m\u001b[0mget_nodes_activation_probabilities\u001b[0m\u001b[1;33m(\u001b[0m\u001b[0mproduct_prices\u001b[0m\u001b[1;33m=\u001b[0m\u001b[0mproduct_prices\u001b[0m\u001b[1;33m)\u001b[0m\u001b[1;33m\u001b[0m\u001b[1;33m\u001b[0m\u001b[0m\n\u001b[0m",
      "\u001b[1;31mNameError\u001b[0m: name 'env' is not defined"
     ]
    }
   ],
   "source": [
    "nodes_activation_probabilities = env.get_nodes_activation_probabilities(product_prices=product_prices)"
   ]
  },
  {
   "cell_type": "code",
   "execution_count": 4,
   "metadata": {},
   "outputs": [],
   "source": [
    "B_cap = 100\n",
    "budgets = np.linspace(start = 0, stop = B_cap, num= 11, endpoint=True)"
   ]
  },
  {
   "cell_type": "code",
   "execution_count": 62,
   "metadata": {},
   "outputs": [],
   "source": [
    "from Ecommerce3 import *"
   ]
  },
  {
   "cell_type": "code",
   "execution_count": 63,
   "metadata": {},
   "outputs": [],
   "source": [
    "ecomm3_ts = Ecommerce3_TS(B_cap = B_cap, budgets = budgets, product_prices = product_prices, tot_num_users = tot_num_users)\n",
    "ecomm3_ucb = Ecommerce3_UCB(B_cap = B_cap, budgets = budgets, product_prices = product_prices, tot_num_users = tot_num_users)"
   ]
  },
  {
   "cell_type": "code",
   "execution_count": null,
   "metadata": {},
   "outputs": [],
   "source": [
    "from Environment import *\n",
    "from Ecommerce3copy import *\n",
    "for _ in range(100):\n",
    "    # print('------Thompson Sampling--------')\n",
    "    # arms_values = ecomm3_ts.pull_arm(nodes_activation_probabilities)\n",
    "    # print(arms_values)\n",
    "    # reward = env.round_step3(pulled_arm=arms_values)\n",
    "    # ecomm3_ts.update(pulled_arm = arms_values, reward = reward)\n",
    "\n",
    "    print('------UCB--------')\n",
    "    arms_values = ecomm3_ucb.pull_arm(nodes_activation_probabilities=nodes_activation_probabilities)\n",
    "    print(arms_values)\n",
    "    reward = env.round_step3(pulled_arm=arms_values)\n",
    "    ecomm3_ucb.update(pulled_arm = arms_values, reward = reward)"
   ]
  },
  {
   "cell_type": "code",
   "execution_count": 24,
   "metadata": {},
   "outputs": [
    {
     "data": {
      "text/plain": [
       "array([[ 691.36515175,  691.36515175,  691.36515175,  691.36515175,\n",
       "         691.43428826,  691.36515175,  691.36515175,  691.36515175,\n",
       "         691.36515175,  691.36515175,  691.36515175],\n",
       "       [ 772.54050823,  772.54050823,  772.54050823,  772.61776228,\n",
       "         772.54050823,  772.54050823,  772.54050823,  772.54050823,\n",
       "         772.54050823,  772.54050823,  772.54050823],\n",
       "       [ 922.47376959,  922.56601697,  922.47376959,  922.47376959,\n",
       "         922.47376959,  922.47376959,  922.47376959,  922.47376959,\n",
       "         922.47376959,  922.47376959,  922.47376959],\n",
       "       [ 924.28414942,  924.37657784,  924.28414942,  924.28414942,\n",
       "         924.28414942,  924.28414942,  924.28414942,  924.28414942,\n",
       "         924.28414942,  924.28414942,  924.28414942],\n",
       "       [1000.1       , 1000.        , 1000.        , 1000.        ,\n",
       "        1000.        , 1000.        , 1000.        , 1000.        ,\n",
       "        1000.        , 1000.        , 1000.        ]])"
      ]
     },
     "execution_count": 24,
     "metadata": {},
     "output_type": "execute_result"
    }
   ],
   "source": [
    "ecomm3_ts.b"
   ]
  },
  {
   "cell_type": "code",
   "execution_count": 107,
   "metadata": {},
   "outputs": [],
   "source": [
    "from Ecommerce5 import *"
   ]
  },
  {
   "cell_type": "code",
   "execution_count": 108,
   "metadata": {},
   "outputs": [
    {
     "name": "stderr",
     "output_type": "stream",
     "text": [
      "k: 100%|██████████| 4688/4688 [00:03<00:00, 1204.56it/s]\n",
      "k: 100%|██████████| 4688/4688 [00:04<00:00, 1032.77it/s]\n",
      "k: 100%|██████████| 4688/4688 [00:05<00:00, 843.62it/s]\n",
      "k: 100%|██████████| 4688/4688 [00:05<00:00, 788.91it/s]\n",
      "k: 100%|██████████| 4688/4688 [00:05<00:00, 831.84it/s]\n",
      "100%|██████████| 20/20 [00:07<00:00,  2.75it/s]    \n",
      "k: 100%|██████████| 4688/4688 [00:03<00:00, 1191.23it/s]\n",
      "k: 100%|██████████| 4688/4688 [00:03<00:00, 1231.12it/s]\n",
      "k: 100%|██████████| 4688/4688 [00:05<00:00, 827.74it/s]\n",
      "k: 100%|██████████| 4688/4688 [00:06<00:00, 763.98it/s]\n",
      "k: 100%|██████████| 4688/4688 [00:05<00:00, 919.21it/s]\n",
      "100%|██████████| 20/20 [00:07<00:00,  2.64it/s]    \n",
      "k: 100%|██████████| 4688/4688 [00:04<00:00, 1164.96it/s]\n",
      "k: 100%|██████████| 4688/4688 [00:04<00:00, 1089.37it/s]\n",
      "k: 100%|██████████| 4688/4688 [00:06<00:00, 772.58it/s]\n",
      "k: 100%|██████████| 4688/4688 [00:05<00:00, 785.56it/s]\n",
      "k: 100%|██████████| 4688/4688 [00:04<00:00, 951.96it/s]\n",
      "100%|██████████| 20/20 [00:07<00:00,  2.62it/s]    \n",
      "k: 100%|██████████| 4688/4688 [00:04<00:00, 1068.94it/s]\n",
      "k: 100%|██████████| 4688/4688 [00:04<00:00, 1082.23it/s]\n",
      "k: 100%|██████████| 4688/4688 [00:05<00:00, 854.27it/s]\n",
      "k: 100%|██████████| 4688/4688 [00:05<00:00, 834.68it/s]\n",
      "k: 100%|██████████| 4688/4688 [00:05<00:00, 913.19it/s] \n",
      "100%|██████████| 20/20 [00:06<00:00,  2.89it/s]    \n",
      "k: 100%|██████████| 4688/4688 [00:04<00:00, 1135.50it/s]\n",
      "k: 100%|██████████| 4688/4688 [00:04<00:00, 1152.88it/s]\n",
      "k: 100%|██████████| 4688/4688 [00:05<00:00, 890.58it/s]\n",
      "k: 100%|██████████| 4688/4688 [00:05<00:00, 821.57it/s]\n",
      "k: 100%|██████████| 4688/4688 [00:05<00:00, 841.50it/s]\n",
      "100%|██████████| 20/20 [00:07<00:00,  2.76it/s]    \n",
      "k: 100%|██████████| 4688/4688 [00:04<00:00, 1146.58it/s]\n",
      "k: 100%|██████████| 4688/4688 [00:04<00:00, 1142.60it/s]\n",
      "k: 100%|██████████| 4688/4688 [00:04<00:00, 950.65it/s]\n",
      "k: 100%|██████████| 4688/4688 [00:05<00:00, 874.47it/s]\n",
      "k: 100%|██████████| 4688/4688 [00:04<00:00, 1042.40it/s]\n",
      "100%|██████████| 20/20 [00:06<00:00,  2.95it/s]    \n",
      "k: 100%|██████████| 4688/4688 [00:04<00:00, 1140.03it/s]\n",
      "k: 100%|██████████| 4688/4688 [00:04<00:00, 1112.14it/s]\n",
      "k: 100%|██████████| 4688/4688 [00:05<00:00, 821.28it/s]\n",
      "k: 100%|██████████| 4688/4688 [00:05<00:00, 816.80it/s]\n",
      "k: 100%|██████████| 4688/4688 [00:05<00:00, 923.16it/s]\n",
      "100%|██████████| 20/20 [00:07<00:00,  2.83it/s]    \n",
      "k: 100%|██████████| 4688/4688 [00:03<00:00, 1188.42it/s]\n",
      "k: 100%|██████████| 4688/4688 [00:04<00:00, 1090.76it/s]\n",
      "k: 100%|██████████| 4688/4688 [00:05<00:00, 894.13it/s]\n",
      "k: 100%|██████████| 4688/4688 [00:06<00:00, 746.09it/s]\n",
      "k: 100%|██████████| 4688/4688 [00:05<00:00, 847.47it/s]\n",
      "100%|██████████| 20/20 [00:07<00:00,  2.79it/s]    \n",
      "k: 100%|██████████| 4688/4688 [00:04<00:00, 1156.10it/s]\n",
      "k: 100%|██████████| 4688/4688 [00:04<00:00, 1155.63it/s]\n",
      "k: 100%|██████████| 4688/4688 [00:05<00:00, 849.33it/s]\n",
      "k: 100%|██████████| 4688/4688 [00:10<00:00, 468.00it/s]\n",
      "k: 100%|██████████| 4688/4688 [00:11<00:00, 396.66it/s]\n",
      "100%|██████████| 20/20 [00:09<00:00,  2.00it/s]    \n",
      "k: 100%|██████████| 4688/4688 [00:06<00:00, 745.32it/s]\n",
      "k: 100%|██████████| 4688/4688 [00:08<00:00, 531.54it/s]\n",
      "k: 100%|██████████| 4688/4688 [00:13<00:00, 353.55it/s]\n",
      "k: 100%|██████████| 4688/4688 [00:12<00:00, 379.68it/s]\n",
      "k: 100%|██████████| 4688/4688 [00:10<00:00, 432.85it/s]\n",
      "100%|██████████| 20/20 [00:11<00:00,  1.72it/s]    \n",
      "100%|██████████| 10/10 [06:05<00:00, 36.53s/it]\n"
     ]
    },
    {
     "data": {
      "image/png": "[encoded data removed]",
      "text/plain": [
       "<Figure size 640x480 with 1 Axes>"
      ]
     },
     "metadata": {},
     "output_type": "display_data"
    }
   ],
   "source": [
    "Ecommerce5.run_experiments(\n",
    "    20,\n",
    "    10,\n",
    "    users_reservation_prices,\n",
    "    click_probabilities,\n",
    "    observations_probabilities,\n",
    "    B_cap,\n",
    "    budgets,\n",
    "    product_prices,\n",
    "    tot_num_users,\n",
    ")\n"
   ]
  },
  {
   "cell_type": "code",
   "execution_count": 86,
   "metadata": {},
   "outputs": [],
   "source": [
    "ecomm5_gpts = Ecommerce5_GPTS(B_cap = B_cap, budgets = budgets, product_prices = product_prices, tot_num_users = tot_num_users)\n",
    "ecomm5_ucb = Ecommerce5_UCB(B_cap = B_cap, budgets = budgets, product_prices = product_prices, tot_num_users = tot_num_users)"
   ]
  },
  {
   "cell_type": "code",
   "execution_count": null,
   "metadata": {},
   "outputs": [],
   "source": []
  }
 ],
 "metadata": {
  "kernelspec": {
   "display_name": "Python 3",
   "language": "python",
   "name": "python3"
  },
  "language_info": {
   "codemirror_mode": {
    "name": "ipython",
    "version": 3
   },
   "file_extension": ".py",
   "mimetype": "text/x-python",
   "name": "python",
   "nbconvert_exporter": "python",
   "pygments_lexer": "ipython3",
   "version": "3.8.8"
  },
  "vscode": {
   "interpreter": {
    "hash": "369f2c481f4da34e4445cda3fffd2e751bd1c4d706f27375911949ba6bb62e1c"
   }
  }
 },
 "nbformat": 4,
 "nbformat_minor": 2
}
