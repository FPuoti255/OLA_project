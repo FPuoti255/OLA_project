{
 "cells": [
  {
   "cell_type": "code",
   "execution_count": 1,
   "metadata": {},
   "outputs": [
    {
     "data": {
      "text/plain": [
       "[[1, 0.6, 0.3], [3, 0.2, 0.7], [4, 0.4, 0.9], [2, 0.8, 0.5]]"
      ]
     },
     "execution_count": 1,
     "metadata": {},
     "output_type": "execute_result"
    }
   ],
   "source": [
    "from genetic_algorithm import *\n",
    "\n",
    "x = [[1,0.2,0.3],[2,0.4,0.5],[3,0.6,0.7],[4,0.8,0.9]]\n",
    "\n",
    "new_x = crossover(x)\n",
    "new_x"
   ]
  },
  {
   "cell_type": "code",
   "execution_count": 1,
   "metadata": {},
   "outputs": [
    {
     "name": "stdout",
     "output_type": "stream",
     "text": [
      "Mutation!\n",
      " candidate [3, 0.6, 0.7] swapped element at idx 1 with candidate [2, 0.4, 0.5]\n"
     ]
    },
    {
     "data": {
      "text/plain": [
       "[[1, 0.2, 0.3], [2, 0.4, 0.5], [3, 0.4, 0.7], [4, 0.8, 0.9]]"
      ]
     },
     "execution_count": 1,
     "metadata": {},
     "output_type": "execute_result"
    }
   ],
   "source": [
    "from genetic_algorithm import *\n",
    "\n",
    "x = [[1,0.2,0.3],[2,0.4,0.5],[3,0.6,0.7],[4,0.8,0.9]]\n",
    "\n",
    "new_x = mutation(x)\n",
    "new_x"
   ]
  },
  {
   "cell_type": "code",
   "execution_count": 6,
   "metadata": {},
   "outputs": [
    {
     "data": {
      "text/plain": [
       "[['Bart', 10], ['Homer', 39]]"
      ]
     },
     "execution_count": 6,
     "metadata": {},
     "output_type": "execute_result"
    }
   ],
   "source": [
    "d = [['Homer', 39], ['Bart', 10]]\n",
    "\n",
    "new = sorted(d, key = lambda d: d[1]) \n",
    "new"
   ]
  },
  {
   "cell_type": "code",
   "execution_count": 32,
   "metadata": {},
   "outputs": [],
   "source": [
    "pop = [[1,0.2,0.3],[2,0.4,0.5],[3,0.6,0.7],[4,0.8,0.9]]\n",
    "#pop = [\"a\",\"b\",\"c\",\"d\"]\n",
    "reg = [5,2,6,7]\n",
    "d = zip(pop,reg)\n",
    "\n",
    "new = sorted(d, key = lambda d: d[1]) \n",
    "\n",
    "pop = [cand[0] for cand in new]\n",
    "reg = [cand[1] for cand in new]"
   ]
  },
  {
   "cell_type": "code",
   "execution_count": 33,
   "metadata": {},
   "outputs": [
    {
     "data": {
      "text/plain": [
       "[[2, 0.4, 0.5], [1, 0.2, 0.3], [3, 0.6, 0.7], [4, 0.8, 0.9]]"
      ]
     },
     "execution_count": 33,
     "metadata": {},
     "output_type": "execute_result"
    }
   ],
   "source": [
    "pop"
   ]
  },
  {
   "cell_type": "code",
   "execution_count": 1,
   "metadata": {},
   "outputs": [
    {
     "data": {
      "text/plain": [
       "[1, 2]"
      ]
     },
     "execution_count": 1,
     "metadata": {},
     "output_type": "execute_result"
    }
   ],
   "source": [
    "from genetic_algorithm import *\n",
    "\n",
    "fitness_function([1,2])"
   ]
  },
  {
   "cell_type": "code",
   "execution_count": 8,
   "metadata": {},
   "outputs": [
    {
     "data": {
      "text/plain": [
       "[1, 2, 3]"
      ]
     },
     "execution_count": 8,
     "metadata": {},
     "output_type": "execute_result"
    }
   ],
   "source": [
    "[1,2,3,4][:3]\n"
   ]
  },
  {
   "cell_type": "code",
   "execution_count": null,
   "metadata": {},
   "outputs": [],
   "source": []
  }
 ],
 "metadata": {
  "kernelspec": {
   "display_name": "Python 3.10.1 64-bit",
   "language": "python",
   "name": "python3"
  },
  "language_info": {
   "codemirror_mode": {
    "name": "ipython",
    "version": 3
   },
   "file_extension": ".py",
   "mimetype": "text/x-python",
   "name": "python",
   "nbconvert_exporter": "python",
   "pygments_lexer": "ipython3",
   "version": "3.10.1"
  },
  "orig_nbformat": 4,
  "vscode": {
   "interpreter": {
    "hash": "369f2c481f4da34e4445cda3fffd2e751bd1c4d706f27375911949ba6bb62e1c"
   }
  }
 },
 "nbformat": 4,
 "nbformat_minor": 2
}
