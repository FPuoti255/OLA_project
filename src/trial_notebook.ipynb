{
 "cells": [
  {
   "cell_type": "code",
   "execution_count": 1,
   "metadata": {},
   "outputs": [],
   "source": [
    "# Lasciate questa cella così ogni volta che aggiornate un file python, \n",
    "# anche gli import nel notebook vengono aggiornati\n",
    "\n",
    "%load_ext autoreload\n",
    "%autoreload 2"
   ]
  },
  {
   "cell_type": "code",
   "execution_count": 2,
   "metadata": {},
   "outputs": [],
   "source": [
    "import numpy as np\n",
    "\n",
    "from Utils import *\n",
    "from constants import *\n",
    "\n",
    "from Environment import *\n",
    "from Non_Stationary_Environment import *\n",
    "\n",
    "from Social_influence import *\n",
    "from Network import Network\n",
    "\n",
    "from Simulation import *\n",
    "\n",
    "from Ecommerce import *\n",
    "from Ecommerce3 import *\n",
    "from Ecommerce4 import *\n",
    "from Ecommerce5 import *\n",
    "from Ecommerce6 import *\n",
    "from step7.Ecommerce7 import*"
   ]
  },
  {
   "cell_type": "markdown",
   "metadata": {},
   "source": [
    "## Step 2"
   ]
  },
  {
   "cell_type": "code",
   "execution_count": 3,
   "metadata": {},
   "outputs": [
    {
     "name": "stdout",
     "output_type": "stream",
     "text": [
      "optimal allocation is: [60. 60. 20. 60.  0.] with a reward of: 457\n",
      "estimated_opt_allocation is: [60. 60. 20. 60.  0.] with a reward of: 457\n"
     ]
    }
   ],
   "source": [
    "simulate_step2()"
   ]
  },
  {
   "cell_type": "markdown",
   "metadata": {},
   "source": [
    "## Step 3"
   ]
  },
  {
   "cell_type": "code",
   "execution_count": null,
   "metadata": {},
   "outputs": [],
   "source": [
    "gpts_rewards_per_experiment, gpucb_rewards_per_experiment, opts = simulate_step3()\n",
    "plot_regrets(gpts_rewards_per_experiment, gpucb_rewards_per_experiment, opts, [\"GPTS\", \"GPUCB\"])"
   ]
  },
  {
   "cell_type": "markdown",
   "metadata": {},
   "source": [
    "## Step 4"
   ]
  },
  {
   "cell_type": "code",
   "execution_count": 11,
   "metadata": {},
   "outputs": [
    {
     "name": "stderr",
     "output_type": "stream",
     "text": [
      "                                                           \r"
     ]
    }
   ],
   "source": [
    "gpts_rewards_per_experiment, gpucb_rewards_per_experiment, opts = simulate_step4()\n",
    "plot_regrets(gpts_rewards_per_experiment, gpucb_rewards_per_experiment, opts, [\"GPTS\", \"GPUCB\"])"
   ]
  },
  {
   "cell_type": "markdown",
   "metadata": {},
   "source": [
    "## Step 5"
   ]
  },
  {
   "cell_type": "code",
   "execution_count": null,
   "metadata": {},
   "outputs": [],
   "source": [
    "gpucb_rewards_per_experiment, gpts_rewards_per_experiment, opts = simulate_step5()\n",
    "plot_regrets(gpts_rewards_per_experiment, gpucb_rewards_per_experiment, opts, [\"GPTS\", \"GPUCB\"])"
   ]
  },
  {
   "cell_type": "markdown",
   "metadata": {},
   "source": [
    "## Step 6"
   ]
  },
  {
   "cell_type": "code",
   "execution_count": null,
   "metadata": {},
   "outputs": [],
   "source": [
    "swucb_rewards_per_experiment, cducb_rewards_per_experiment, opts = simulate_step6()\n",
    "plot_regrets(swucb_rewards_per_experiment, cducb_rewards_per_experiment, opts, [\"SWUCB\", \"CDUCB\"])"
   ]
  },
  {
   "cell_type": "markdown",
   "metadata": {},
   "source": [
    "## Step 7"
   ]
  },
  {
   "cell_type": "code",
   "execution_count": 13,
   "metadata": {},
   "outputs": [],
   "source": [
    "import numpy as np\n",
    "\n",
    "from Utils import *\n",
    "from constants import *\n",
    "\n",
    "from Environment import *\n",
    "from Non_Stationary_Environment import *\n",
    "\n",
    "from Social_influence import *\n",
    "from Network import Network\n",
    "\n",
    "from Simulation import *\n",
    "\n",
    "from Ecommerce import *\n",
    "from Ecommerce3 import *\n",
    "from Ecommerce4 import *\n",
    "from Ecommerce5 import *\n",
    "from Ecommerce6 import *\n",
    "from step7.Ecommerce7 import*"
   ]
  },
  {
   "cell_type": "code",
   "execution_count": 14,
   "metadata": {},
   "outputs": [],
   "source": [
    "env, observations_probabilities, click_probabilities, product_prices,\\\n",
    "                users_reservation_prices, users_poisson_parameters = generate_new_environment()\n",
    "\n",
    "\n",
    "nodes_activation_probabilities, num_sold_items = estimate_nodes_activation_probabilities(\n",
    "        click_probabilities,\n",
    "        users_reservation_prices,\n",
    "        users_poisson_parameters,\n",
    "        product_prices,\n",
    "        observations_probabilities\n",
    "    )\n",
    "\n",
    "exp_clicks = env.estimate_num_of_clicks(budgets/B_cap)\n",
    "\n",
    "ecomm7 = Ecommerce7(B_cap, budgets, product_prices, features, 'TS')\n"
   ]
  },
  {
   "cell_type": "code",
   "execution_count": 16,
   "metadata": {},
   "outputs": [
    {
     "name": "stderr",
     "output_type": "stream",
     "text": []
    },
    {
     "name": "stdout",
     "output_type": "stream",
     "text": [
      "No better split found!\n"
     ]
    },
    {
     "name": "stderr",
     "output_type": "stream",
     "text": []
    },
    {
     "name": "stdout",
     "output_type": "stream",
     "text": [
      "No better split found!\n"
     ]
    },
    {
     "name": "stderr",
     "output_type": "stream",
     "text": []
    },
    {
     "name": "stdout",
     "output_type": "stream",
     "text": [
      "No better split found!\n"
     ]
    },
    {
     "name": "stderr",
     "output_type": "stream",
     "text": []
    },
    {
     "name": "stdout",
     "output_type": "stream",
     "text": [
      "No better split found!\n"
     ]
    },
    {
     "name": "stderr",
     "output_type": "stream",
     "text": []
    },
    {
     "name": "stdout",
     "output_type": "stream",
     "text": [
      "Better split_found {'B': 1} {'A': 0, 'C': 2, 'D': 0}\n"
     ]
    },
    {
     "ename": "AssertionError",
     "evalue": "",
     "output_type": "error",
     "traceback": [
      "\u001b[0;31m---------------------------------------------------------------------------\u001b[0m",
      "\u001b[0;31mAssertionError\u001b[0m                            Traceback (most recent call last)",
      "\u001b[1;32m/home/fpuoti/GIT/OLA_project/src/trial_notebook.ipynb Cell 16\u001b[0m in \u001b[0;36m<cell line: 4>\u001b[0;34m()\u001b[0m\n\u001b[1;32m     <a href='vscode-notebook-cell:/home/fpuoti/GIT/OLA_project/src/trial_notebook.ipynb#X36sZmlsZQ%3D%3D?line=27'>28</a>\u001b[0m         context_learners[i]\u001b[39m.\u001b[39mupdate(\n\u001b[1;32m     <a href='vscode-notebook-cell:/home/fpuoti/GIT/OLA_project/src/trial_notebook.ipynb#X36sZmlsZQ%3D%3D?line=28'>29</a>\u001b[0m             pulled_arms[idxs[i][\u001b[39m0\u001b[39m]],\n\u001b[1;32m     <a href='vscode-notebook-cell:/home/fpuoti/GIT/OLA_project/src/trial_notebook.ipynb#X36sZmlsZQ%3D%3D?line=29'>30</a>\u001b[0m             np\u001b[39m.\u001b[39msum(reward[idxs[i]], axis\u001b[39m=\u001b[39m\u001b[39m0\u001b[39m),\n\u001b[1;32m     <a href='vscode-notebook-cell:/home/fpuoti/GIT/OLA_project/src/trial_notebook.ipynb#X36sZmlsZQ%3D%3D?line=30'>31</a>\u001b[0m             np\u001b[39m.\u001b[39msum(estimated_sold_items[idxs[i]], axis\u001b[39m=\u001b[39m\u001b[39m0\u001b[39m)\n\u001b[1;32m     <a href='vscode-notebook-cell:/home/fpuoti/GIT/OLA_project/src/trial_notebook.ipynb#X36sZmlsZQ%3D%3D?line=31'>32</a>\u001b[0m         )\n\u001b[1;32m     <a href='vscode-notebook-cell:/home/fpuoti/GIT/OLA_project/src/trial_notebook.ipynb#X36sZmlsZQ%3D%3D?line=32'>33</a>\u001b[0m     \u001b[39melse\u001b[39;00m:\n\u001b[0;32m---> <a href='vscode-notebook-cell:/home/fpuoti/GIT/OLA_project/src/trial_notebook.ipynb#X36sZmlsZQ%3D%3D?line=33'>34</a>\u001b[0m         context_learners[i]\u001b[39m.\u001b[39;49mupdate(\n\u001b[1;32m     <a href='vscode-notebook-cell:/home/fpuoti/GIT/OLA_project/src/trial_notebook.ipynb#X36sZmlsZQ%3D%3D?line=34'>35</a>\u001b[0m             pulled_arms[idxs[i]],\n\u001b[1;32m     <a href='vscode-notebook-cell:/home/fpuoti/GIT/OLA_project/src/trial_notebook.ipynb#X36sZmlsZQ%3D%3D?line=35'>36</a>\u001b[0m             reward[idxs[i]],\n\u001b[1;32m     <a href='vscode-notebook-cell:/home/fpuoti/GIT/OLA_project/src/trial_notebook.ipynb#X36sZmlsZQ%3D%3D?line=36'>37</a>\u001b[0m             estimated_sold_items[idxs[i]]\n\u001b[1;32m     <a href='vscode-notebook-cell:/home/fpuoti/GIT/OLA_project/src/trial_notebook.ipynb#X36sZmlsZQ%3D%3D?line=37'>38</a>\u001b[0m         )\n\u001b[1;32m     <a href='vscode-notebook-cell:/home/fpuoti/GIT/OLA_project/src/trial_notebook.ipynb#X36sZmlsZQ%3D%3D?line=39'>40</a>\u001b[0m ecomm7\u001b[39m.\u001b[39mupdate_history(pulled_arms, reward, estimated_sold_items)\n",
      "File \u001b[0;32m~/GIT/OLA_project/src/step7/ContextNode.py:111\u001b[0m, in \u001b[0;36mContextNode.update\u001b[0;34m(self, pulled_arm, context_reward, context_sold_items)\u001b[0m\n\u001b[1;32m    110\u001b[0m \u001b[39mdef\u001b[39;00m \u001b[39mupdate\u001b[39m(\u001b[39mself\u001b[39m, pulled_arm, context_reward, context_sold_items):\n\u001b[0;32m--> 111\u001b[0m     \u001b[39massert\u001b[39;00m(pulled_arm\u001b[39m.\u001b[39mshape \u001b[39m==\u001b[39m (NUM_OF_PRODUCTS,))\n\u001b[1;32m    112\u001b[0m     \u001b[39massert\u001b[39;00m(context_reward\u001b[39m.\u001b[39mshape \u001b[39m==\u001b[39m (NUM_OF_PRODUCTS,))\n\u001b[1;32m    113\u001b[0m     \u001b[39massert\u001b[39;00m(context_sold_items\u001b[39m.\u001b[39mshape \u001b[39m==\u001b[39m (NUM_OF_PRODUCTS,))\n",
      "\u001b[0;31mAssertionError\u001b[0m: "
     ]
    }
   ],
   "source": [
    "features = {'A' : 0, 'B' : 1, 'C' : 2, 'D' : 0}\n",
    "split_time = 14\n",
    "\n",
    "for t in tqdm(range(0, 100), position=1, desc=\"n_iteration\", leave=False):\n",
    "    context_learners = ecomm7.get_context_tree().get_leaves()\n",
    "    idxs = []\n",
    "    pulled_arms = np.zeros(shape=(NUM_OF_USERS_CLASSES, NUM_OF_PRODUCTS))\n",
    "\n",
    "    if t % split_time == 0 and t!=0:\n",
    "        for learner in context_learners:\n",
    "            learner.evaluate_splitting_condition(features,\n",
    "                                                 ecomm7.get_pulled_arms()[-split_time :],\n",
    "                                                 ecomm7.get_collected_rewards()[-split_time :],\n",
    "                                                 ecomm7.get_collected_sold_items()[-split_time :])\n",
    "        \n",
    "        context_learners = ecomm7.get_context_tree().get_leaves()\n",
    "\n",
    "    for learner in context_learners:\n",
    "        arm, idx = learner.pull_arm()\n",
    "        idxs.append(idx)\n",
    "        pulled_arms[idx, :] = arm\n",
    "\n",
    "    reward, estimated_sold_items = env.round_step7(\n",
    "        pulled_arms, B_cap, nodes_activation_probabilities, num_sold_items)\n",
    "\n",
    "    for i in range(len(context_learners)):\n",
    "        context_learners[i].update(\n",
    "            pulled_arms[idxs[i][0]],\n",
    "            np.sum(reward[idxs[i]], axis=0),\n",
    "            np.sum(estimated_sold_items[idxs[i]], axis=0)\n",
    "        )\n",
    "\n",
    "\n",
    "    ecomm7.update_history(pulled_arms, reward, estimated_sold_items)\n"
   ]
  },
  {
   "cell_type": "code",
   "execution_count": 17,
   "metadata": {},
   "outputs": [
    {
     "data": {
      "text/plain": [
       "[[1], [0, 2]]"
      ]
     },
     "execution_count": 17,
     "metadata": {},
     "output_type": "execute_result"
    }
   ],
   "source": [
    "idxs"
   ]
  },
  {
   "cell_type": "code",
   "execution_count": 18,
   "metadata": {},
   "outputs": [
    {
     "data": {
      "text/plain": [
       "(1, 5)"
      ]
     },
     "execution_count": 18,
     "metadata": {},
     "output_type": "execute_result"
    }
   ],
   "source": [
    "pulled_arms[idxs[0]].shape"
   ]
  },
  {
   "cell_type": "code",
   "execution_count": null,
   "metadata": {},
   "outputs": [],
   "source": []
  }
 ],
 "metadata": {
  "kernelspec": {
   "display_name": "Python 3.9.13 ('ola-project-8LfWcEjO-py3.9')",
   "language": "python",
   "name": "python3"
  },
  "language_info": {
   "codemirror_mode": {
    "name": "ipython",
    "version": 3
   },
   "file_extension": ".py",
   "mimetype": "text/x-python",
   "name": "python",
   "nbconvert_exporter": "python",
   "pygments_lexer": "ipython3",
   "version": "3.9.14"
  },
  "vscode": {
   "interpreter": {
    "hash": "de57e29cc654ebd9fe415b8f06da5735bf250a61da6652d02ce0167dbae41596"
   }
  }
 },
 "nbformat": 4,
 "nbformat_minor": 2
}
