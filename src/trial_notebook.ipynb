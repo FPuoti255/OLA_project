{
 "cells": [
  {
   "cell_type": "code",
   "execution_count": 2,
   "metadata": {},
   "outputs": [],
   "source": [
    "# Lasciate questa cella così ogni volta che aggiornate un file python, \n",
    "# anche gli import nel notebook vengono aggiornati\n",
    "\n",
    "%load_ext autoreload\n",
    "%autoreload 2"
   ]
  },
  {
   "cell_type": "code",
   "execution_count": 3,
   "metadata": {},
   "outputs": [],
   "source": [
    "import numpy as np\n",
    "\n",
    "from Utils import *\n",
    "from constants import *\n",
    "\n",
    "from Environment import *\n",
    "from Non_Stationary_Environment import *\n",
    "\n",
    "from Social_influence import *\n",
    "from Network import Network\n",
    "\n",
    "from Simulation import *\n",
    "\n",
    "from Ecommerce import *\n",
    "from Ecommerce3 import *\n",
    "from Ecommerce4 import *\n",
    "from Ecommerce5 import *\n",
    "from Ecommerce6 import *\n",
    "from step7.Ecommerce7 import*"
   ]
  },
  {
   "cell_type": "markdown",
   "metadata": {},
   "source": [
    "## Step 3"
   ]
  },
  {
   "cell_type": "code",
   "execution_count": 4,
   "metadata": {},
   "outputs": [
    {
     "name": "stdout",
     "output_type": "stream",
     "text": [
      "Experiment n°: 1\n"
     ]
    },
    {
     "name": "stderr",
     "output_type": "stream",
     "text": [
      "n_iteration:  69%|██████▊   | 48/70 [04:14<02:28,  6.74s/it]"
     ]
    }
   ],
   "source": [
    "gpts_rewards_per_experiment, gpucb_rewards_per_experiment, opts = simulate_step3()\n",
    "plot_regrets(gpts_rewards_per_experiment, gpucb_rewards_per_experiment, opts, [\"GPTS\", \"GPUCB\"])"
   ]
  },
  {
   "cell_type": "markdown",
   "metadata": {},
   "source": [
    "## Step 4"
   ]
  },
  {
   "cell_type": "code",
   "execution_count": null,
   "metadata": {},
   "outputs": [],
   "source": [
    "gpts_rewards_per_experiment, gpucb_rewards_per_experiment, opts = simulate_step4()\n",
    "plot_regrets(gpts_rewards_per_experiment, gpucb_rewards_per_experiment, opts, [\"GPTS\", \"GPUCB\"])"
   ]
  },
  {
   "cell_type": "markdown",
   "metadata": {},
   "source": [
    "## Step 5"
   ]
  },
  {
   "cell_type": "code",
   "execution_count": null,
   "metadata": {},
   "outputs": [],
   "source": [
    "def pull_arm(self, num_sold_items):\n",
    "        if np.random.binomial(n=1, p= 1 - self.exploration_probability):\n",
    "            estimated_reward = self.estimate_reward(num_sold_items)    \n",
    "        else :\n",
    "            value_per_click = self.compute_value_per_click(num_sold_items)\n",
    "            estimated_reward = np.multiply(\n",
    "                np.random.beta(a = 0.5, b = 0.5, size=(NUM_OF_PRODUCTS, self.budgets.shape[0])),\n",
    "                np.atleast_2d(value_per_click).T\n",
    "            ) \n",
    "\n",
    "        budget_idxs_for_each_product, _ = self.dynamic_knapsack_solver(table=estimated_reward)\n",
    "        return self.budgets[budget_idxs_for_each_product], np.array(budget_idxs_for_each_product)\n",
    "gpts_rewards_per_experiment, gpucb_rewards_per_experiment, opts = simulate_step5()\n",
    "plot_regrets(gpts_rewards_per_experiment, gpucb_rewards_per_experiment, opts, [\"GPTS\", \"GPUCB\"])"
   ]
  },
  {
   "cell_type": "markdown",
   "metadata": {},
   "source": [
    "## Step 6"
   ]
  },
  {
   "cell_type": "code",
   "execution_count": null,
   "metadata": {},
   "outputs": [],
   "source": [
    "swucb_rewards_per_experiment, cducb_rewards_per_experiment, opts = simulate_step6()\n",
    "plot_regrets(swucb_rewards_per_experiment, cducb_rewards_per_experiment, opts, [\"SWUCB\", \"CDUCB\"])"
   ]
  },
  {
   "cell_type": "markdown",
   "metadata": {},
   "source": [
    "## Step 7"
   ]
  },
  {
   "cell_type": "code",
   "execution_count": null,
   "metadata": {},
   "outputs": [],
   "source": [
    "gpts_rewards_per_experiment, gpucb_rewards_per_experiment, opts = simulate_step7()\n",
    "plot_regrets(gpts_rewards_per_experiment, gpucb_rewards_per_experiment, opts, [\"GPTS\", \"GPUCB\"])"
   ]
  }
 ],
 "metadata": {
  "kernelspec": {
   "display_name": "Python 3.9.13 ('ola-project-8LfWcEjO-py3.9')",
   "language": "python",
   "name": "python3"
  },
  "language_info": {
   "codemirror_mode": {
    "name": "ipython",
    "version": 3
   },
   "file_extension": ".py",
   "mimetype": "text/x-python",
   "name": "python",
   "nbconvert_exporter": "python",
   "pygments_lexer": "ipython3",
   "version": "3.9.14"
  },
  "vscode": {
   "interpreter": {
    "hash": "de57e29cc654ebd9fe415b8f06da5735bf250a61da6652d02ce0167dbae41596"
   }
  }
 },
 "nbformat": 4,
 "nbformat_minor": 2
}
