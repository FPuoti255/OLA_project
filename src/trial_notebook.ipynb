{
 "cells": [
  {
   "cell_type": "code",
   "execution_count": 1,
   "metadata": {},
   "outputs": [],
   "source": [
    "# Lasciate questa cella così ogni volta che aggiornate un file python, \n",
    "# anche gli import nel notebook vengono aggiornati\n",
    "\n",
    "%load_ext autoreload\n",
    "%autoreload 2"
   ]
  },
  {
   "cell_type": "code",
   "execution_count": 2,
   "metadata": {},
   "outputs": [],
   "source": [
    "import numpy as np\n",
    "\n",
    "from Utils import *\n",
    "from constants import *\n",
    "\n",
    "from Environment import *\n",
    "from Non_Stationary_Environment import *\n",
    "\n",
    "from Social_influence import *\n",
    "from Network import Network\n",
    "\n",
    "from Simulation import *\n",
    "\n",
    "from Ecommerce import *\n",
    "from Ecommerce3 import *\n",
    "from Ecommerce4 import *\n",
    "from Ecommerce5 import *\n",
    "from Ecommerce6 import *\n",
    "from step7.Ecommerce7 import*"
   ]
  },
  {
   "cell_type": "code",
   "execution_count": null,
   "metadata": {},
   "outputs": [],
   "source": [
    "## Plot learned functions in GP"
   ]
  },
  {
   "cell_type": "code",
   "execution_count": null,
   "metadata": {},
   "outputs": [],
   "source": [
    "graph_weights, alpha_bars, product_prices, users_reservation_prices, \\\n",
    "    observations_probabilities, users_poisson_parameters = setup_environment()\n",
    "\n",
    "env = Environment(users_reservation_prices, graph_weights, alpha_bars)\n",
    "\n",
    "ecomm = Ecommerce(B_cap, budgets, product_prices)\n",
    "ecomm3_gpts = Ecommerce3_GPTS(B_cap, budgets, product_prices)\n",
    "ecomm3_gpucb = Ecommerce3_GPUCB(B_cap, budgets, product_prices)\n",
    "\n",
    "for t in tqdm(range(0, T), position = 0, desc=\"n_iteration\"):\n",
    "    # Every day a new montecarlo simulation must be run to sample num of items sold\n",
    "    num_sold_items = estimate_nodes_activation_probabilities(\n",
    "        env.network.get_adjacency_matrix(),\n",
    "        env.users_reservation_prices,\n",
    "        users_poisson_parameters,\n",
    "        product_prices,\n",
    "        observations_probabilities\n",
    "    )\n",
    "\n",
    "    expected_reward = env.compute_clairvoyant_reward(\n",
    "        num_sold_items,\n",
    "        product_prices,\n",
    "        budgets\n",
    "    )     \n",
    "\n",
    "    # aggregation is needed since in this step the ecommerce\n",
    "    # cannot observe the users classes features\n",
    "    aggregated_num_sold_items = np.sum(num_sold_items, axis = 0)\n",
    "\n",
    "    arm, arm_idxs = ecomm3_gpts.pull_arm(aggregated_num_sold_items)\n",
    "    # the environment returns the users_alpha and the reward for that allocation\n",
    "    alpha, _ = env.round_step3(pulled_arm = arm, pulled_arm_idxs = arm_idxs)\n",
    "    ecomm3_gpts.update(arm_idxs, alpha)\n",
    "\n",
    "    arm, arm_idxs = ecomm3_gpucb.pull_arm(aggregated_num_sold_items)\n",
    "    alpha, _ = env.round_step3(pulled_arm = arm, pulled_arm_idxs = arm_idxs)\n",
    "    ecomm3_gpucb.update(arm_idxs, alpha)\n",
    "\n",
    "plot_learned_functions(ecomm3_gpts, ecomm3_gpucb, env)"
   ]
  },
  {
   "cell_type": "markdown",
   "metadata": {},
   "source": [
    "## Step 3"
   ]
  },
  {
   "cell_type": "code",
   "execution_count": 3,
   "metadata": {},
   "outputs": [
    {
     "name": "stdout",
     "output_type": "stream",
     "text": [
      "Experiment n°: 1\n"
     ]
    },
    {
     "name": "stderr",
     "output_type": "stream",
     "text": [
      "n_iteration:   4%|▍         | 2/50 [00:13<05:23,  6.75s/it]"
     ]
    }
   ],
   "source": [
    "gpts_rewards_per_experiment, gpucb_rewards_per_experiment, opts = simulate_step3()\n",
    "plot_regrets(gpts_rewards_per_experiment, gpucb_rewards_per_experiment, opts, [\"GPTS\", \"GPUCB\"])"
   ]
  },
  {
   "cell_type": "markdown",
   "metadata": {},
   "source": [
    "## Step 4"
   ]
  },
  {
   "cell_type": "code",
   "execution_count": null,
   "metadata": {},
   "outputs": [],
   "source": [
    "gpts_rewards_per_experiment, gpucb_rewards_per_experiment, opts = simulate_step4()\n",
    "plot_regrets(gpts_rewards_per_experiment, gpucb_rewards_per_experiment, opts, [\"GPTS\", \"GPUCB\"])"
   ]
  },
  {
   "cell_type": "markdown",
   "metadata": {},
   "source": [
    "## Step 5"
   ]
  },
  {
   "cell_type": "code",
   "execution_count": null,
   "metadata": {},
   "outputs": [],
   "source": [
    "gpts_rewards_per_experiment, gpucb_rewards_per_experiment, opts = simulate_step5()\n",
    "plot_regrets(gpts_rewards_per_experiment, gpucb_rewards_per_experiment, opts, [\"GPTS\", \"GPUCB\"])"
   ]
  },
  {
   "cell_type": "markdown",
   "metadata": {},
   "source": [
    "## Step 6"
   ]
  },
  {
   "cell_type": "code",
   "execution_count": null,
   "metadata": {},
   "outputs": [],
   "source": [
    "swucb_rewards_per_experiment, cducb_rewards_per_experiment, opts = simulate_step6()\n",
    "plot_regrets(swucb_rewards_per_experiment, cducb_rewards_per_experiment, opts, [\"SWUCB\", \"CDUCB\"])"
   ]
  },
  {
   "cell_type": "markdown",
   "metadata": {},
   "source": [
    "## Step 7"
   ]
  },
  {
   "cell_type": "code",
   "execution_count": null,
   "metadata": {},
   "outputs": [],
   "source": [
    "gpts_rewards_per_experiment, gpucb_rewards_per_experiment, opts = simulate_step7()\n",
    "plot_regrets(gpts_rewards_per_experiment, gpucb_rewards_per_experiment, opts, [\"GPTS\", \"GPUCB\"])"
   ]
  }
 ],
 "metadata": {
  "kernelspec": {
   "display_name": "Python 3.9.13 ('ola-project-8LfWcEjO-py3.9')",
   "language": "python",
   "name": "python3"
  },
  "language_info": {
   "codemirror_mode": {
    "name": "ipython",
    "version": 3
   },
   "file_extension": ".py",
   "mimetype": "text/x-python",
   "name": "python",
   "nbconvert_exporter": "python",
   "pygments_lexer": "ipython3",
   "version": "3.9.14"
  },
  "vscode": {
   "interpreter": {
    "hash": "de57e29cc654ebd9fe415b8f06da5735bf250a61da6652d02ce0167dbae41596"
   }
  }
 },
 "nbformat": 4,
 "nbformat_minor": 2
}
