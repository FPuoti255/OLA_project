{
 "cells": [
  {
   "cell_type": "code",
   "execution_count": 1,
   "metadata": {},
   "outputs": [],
   "source": [
    "# Lasciate questa cella così ogni volta che aggiornate un file python, \n",
    "# anche gli import nel notebook vengono aggiornati\n",
    "\n",
    "%load_ext autoreload\n",
    "%autoreload 2"
   ]
  },
  {
   "cell_type": "code",
   "execution_count": 2,
   "metadata": {},
   "outputs": [],
   "source": [
    "import numpy as np\n",
    "\n",
    "from Utils import *\n",
    "from constants import *\n",
    "\n",
    "from Environment import *\n",
    "from Non_Stationary_Environment import *\n",
    "\n",
    "from Social_influence import *\n",
    "from Network import Network\n",
    "\n",
    "from Simulation import *\n",
    "\n",
    "from Ecommerce import *\n",
    "from Ecommerce3 import *\n",
    "from Ecommerce4 import *\n",
    "from Ecommerce5 import *\n",
    "from Ecommerce6 import *\n",
    "from step7.Ecommerce7 import*"
   ]
  },
  {
   "cell_type": "code",
   "execution_count": 4,
   "metadata": {},
   "outputs": [
    {
     "ename": "AttributeError",
     "evalue": "'list' object has no attribute 'shape'",
     "output_type": "error",
     "traceback": [
      "\u001b[0;31m---------------------------------------------------------------------------\u001b[0m",
      "\u001b[0;31mAttributeError\u001b[0m                            Traceback (most recent call last)",
      "\u001b[1;32m/home/fpuoti/GIT/OLA_project/src/trial_notebook.ipynb Cell 3\u001b[0m in \u001b[0;36m<cell line: 28>\u001b[0;34m()\u001b[0m\n\u001b[1;32m     <a href='vscode-notebook-cell:/home/fpuoti/GIT/OLA_project/src/trial_notebook.ipynb#X26sZmlsZQ%3D%3D?line=19'>20</a>\u001b[0m expected_reward \u001b[39m=\u001b[39m env\u001b[39m.\u001b[39mcompute_clairvoyant_reward(\n\u001b[1;32m     <a href='vscode-notebook-cell:/home/fpuoti/GIT/OLA_project/src/trial_notebook.ipynb#X26sZmlsZQ%3D%3D?line=20'>21</a>\u001b[0m     num_sold_items,\n\u001b[1;32m     <a href='vscode-notebook-cell:/home/fpuoti/GIT/OLA_project/src/trial_notebook.ipynb#X26sZmlsZQ%3D%3D?line=21'>22</a>\u001b[0m     product_prices,\n\u001b[1;32m     <a href='vscode-notebook-cell:/home/fpuoti/GIT/OLA_project/src/trial_notebook.ipynb#X26sZmlsZQ%3D%3D?line=22'>23</a>\u001b[0m     budgets\n\u001b[1;32m     <a href='vscode-notebook-cell:/home/fpuoti/GIT/OLA_project/src/trial_notebook.ipynb#X26sZmlsZQ%3D%3D?line=23'>24</a>\u001b[0m )     \n\u001b[1;32m     <a href='vscode-notebook-cell:/home/fpuoti/GIT/OLA_project/src/trial_notebook.ipynb#X26sZmlsZQ%3D%3D?line=26'>27</a>\u001b[0m optimal_allocation , optimal_gain, optimal_allocation_idxs \u001b[39m=\u001b[39m ecomm\u001b[39m.\u001b[39mclairvoyant_optimization_problem(expected_reward)\n\u001b[0;32m---> <a href='vscode-notebook-cell:/home/fpuoti/GIT/OLA_project/src/trial_notebook.ipynb#X26sZmlsZQ%3D%3D?line=27'>28</a>\u001b[0m alpha, reward \u001b[39m=\u001b[39m env\u001b[39m.\u001b[39;49mround_step3(pulled_arm \u001b[39m=\u001b[39;49m optimal_allocation, pulled_arm_idxs \u001b[39m=\u001b[39;49m optimal_allocation_idxs)\n\u001b[1;32m     <a href='vscode-notebook-cell:/home/fpuoti/GIT/OLA_project/src/trial_notebook.ipynb#X26sZmlsZQ%3D%3D?line=28'>29</a>\u001b[0m \u001b[39mtry\u001b[39;00m:\n\u001b[1;32m     <a href='vscode-notebook-cell:/home/fpuoti/GIT/OLA_project/src/trial_notebook.ipynb#X26sZmlsZQ%3D%3D?line=29'>30</a>\u001b[0m     \u001b[39massert\u001b[39;00m(optimal_gain \u001b[39m==\u001b[39m reward)\n",
      "File \u001b[0;32m~/GIT/OLA_project/src/Environment.py:99\u001b[0m, in \u001b[0;36mEnvironment.round_step3\u001b[0;34m(self, pulled_arm, pulled_arm_idxs)\u001b[0m\n\u001b[1;32m     97\u001b[0m \u001b[39mdef\u001b[39;00m \u001b[39mround_step3\u001b[39m(\u001b[39mself\u001b[39m, pulled_arm, pulled_arm_idxs):\n\u001b[0;32m---> 99\u001b[0m     \u001b[39massert\u001b[39;00m (pulled_arm_idxs\u001b[39m.\u001b[39;49mshape \u001b[39m==\u001b[39m (NUM_OF_PRODUCTS,))\n\u001b[1;32m    100\u001b[0m     \u001b[39massert\u001b[39;00m(\u001b[39mself\u001b[39m\u001b[39m.\u001b[39mexpected_reward \u001b[39mis\u001b[39;00m \u001b[39mnot\u001b[39;00m \u001b[39mNone\u001b[39;00m)\n\u001b[1;32m    101\u001b[0m     \u001b[39massert\u001b[39;00m(\u001b[39mself\u001b[39m\u001b[39m.\u001b[39mexpected_users_alpha \u001b[39mis\u001b[39;00m \u001b[39mnot\u001b[39;00m \u001b[39mNone\u001b[39;00m)\n",
      "\u001b[0;31mAttributeError\u001b[0m: 'list' object has no attribute 'shape'"
     ]
    }
   ],
   "source": [
    "\n",
    "graph_weights, alpha_bars, product_prices, users_reservation_prices, \\\n",
    "observations_probabilities, users_poisson_parameters = setup_environment()\n",
    "\n",
    "env = Environment(users_reservation_prices, graph_weights, alpha_bars)\n",
    "\n",
    "ecomm = Ecommerce(B_cap, budgets, product_prices)\n",
    "ecomm3_gpts = Ecommerce3_GPTS(B_cap, budgets, product_prices)\n",
    "ecomm3_gpucb = Ecommerce3_GPUCB(B_cap, budgets, product_prices)\n",
    "\n",
    "\n",
    "# Every day a new montecarlo simulation must be run to sample num of items sold\n",
    "num_sold_items = estimate_nodes_activation_probabilities(\n",
    "    env.network.get_adjacency_matrix(),\n",
    "    env.users_reservation_prices,\n",
    "    users_poisson_parameters,\n",
    "    product_prices,\n",
    "    observations_probabilities\n",
    ")\n",
    "\n",
    "expected_reward = env.compute_clairvoyant_reward(\n",
    "    num_sold_items,\n",
    "    product_prices,\n",
    "    budgets\n",
    ")     \n",
    "\n",
    "\n",
    "optimal_allocation , optimal_gain, optimal_allocation_idxs = ecomm.clairvoyant_optimization_problem(expected_reward)\n",
    "alpha, reward = env.round_step3(pulled_arm = np.array(optimal_allocation), pulled_arm_idxs = np.array(optimal_allocation_idxs))\n",
    "try:\n",
    "    assert(optimal_gain == reward)\n",
    "except AssertionError as ae:\n",
    "    print(f'optimal_gain: {optimal_gain}, env_reward: {reward}')\n",
    "\n",
    "\n"
   ]
  },
  {
   "cell_type": "markdown",
   "metadata": {},
   "source": [
    "## Step 3"
   ]
  },
  {
   "cell_type": "code",
   "execution_count": null,
   "metadata": {},
   "outputs": [],
   "source": [
    "gpts_rewards_per_experiment, gpucb_rewards_per_experiment, opts = simulate_step3()\n",
    "plot_regrets(gpts_rewards_per_experiment, gpucb_rewards_per_experiment, opts, [\"GPTS\", \"GPUCB\"])"
   ]
  },
  {
   "cell_type": "markdown",
   "metadata": {},
   "source": [
    "## Step 4"
   ]
  },
  {
   "cell_type": "code",
   "execution_count": null,
   "metadata": {},
   "outputs": [],
   "source": [
    "gpts_rewards_per_experiment, gpucb_rewards_per_experiment, opts = simulate_step4()\n",
    "plot_regrets(gpts_rewards_per_experiment, gpucb_rewards_per_experiment, opts, [\"GPTS\", \"GPUCB\"])"
   ]
  },
  {
   "cell_type": "markdown",
   "metadata": {},
   "source": [
    "## Step 5"
   ]
  },
  {
   "cell_type": "code",
   "execution_count": null,
   "metadata": {},
   "outputs": [],
   "source": [
    "gpts_rewards_per_experiment, gpucb_rewards_per_experiment, opts = simulate_step5()\n",
    "plot_regrets(gpts_rewards_per_experiment, gpucb_rewards_per_experiment, opts, [\"GPTS\", \"GPUCB\"])"
   ]
  },
  {
   "cell_type": "markdown",
   "metadata": {},
   "source": [
    "## Step 6"
   ]
  },
  {
   "cell_type": "code",
   "execution_count": null,
   "metadata": {},
   "outputs": [],
   "source": [
    "swucb_rewards_per_experiment, cducb_rewards_per_experiment, opts = simulate_step6()\n",
    "plot_regrets(swucb_rewards_per_experiment, cducb_rewards_per_experiment, opts, [\"SWUCB\", \"CDUCB\"])"
   ]
  },
  {
   "cell_type": "markdown",
   "metadata": {},
   "source": [
    "## Step 7"
   ]
  },
  {
   "cell_type": "code",
   "execution_count": null,
   "metadata": {},
   "outputs": [],
   "source": [
    "gpts_rewards_per_experiment, gpucb_rewards_per_experiment, opts = simulate_step7()\n",
    "plot_regrets(gpts_rewards_per_experiment, gpucb_rewards_per_experiment, opts, [\"GPTS\", \"GPUCB\"])"
   ]
  },
  {
   "cell_type": "code",
   "execution_count": null,
   "metadata": {},
   "outputs": [],
   "source": []
  }
 ],
 "metadata": {
  "kernelspec": {
   "display_name": "Python 3.9.13 ('ola-project-8LfWcEjO-py3.9')",
   "language": "python",
   "name": "python3"
  },
  "language_info": {
   "codemirror_mode": {
    "name": "ipython",
    "version": 3
   },
   "file_extension": ".py",
   "mimetype": "text/x-python",
   "name": "python",
   "nbconvert_exporter": "python",
   "pygments_lexer": "ipython3",
   "version": "3.9.14"
  },
  "vscode": {
   "interpreter": {
    "hash": "de57e29cc654ebd9fe415b8f06da5735bf250a61da6652d02ce0167dbae41596"
   }
  }
 },
 "nbformat": 4,
 "nbformat_minor": 2
}
