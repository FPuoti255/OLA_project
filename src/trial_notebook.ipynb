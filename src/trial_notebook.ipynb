{
 "cells": [
  {
   "cell_type": "code",
   "execution_count": 1,
   "metadata": {},
   "outputs": [],
   "source": [
    "# Lasciate questa cella così ogni volta che aggiornate un file python, \n",
    "# anche gli import nel notebook vengono aggiornati\n",
    "\n",
    "%load_ext autoreload\n",
    "%autoreload 2"
   ]
  },
  {
   "cell_type": "code",
   "execution_count": null,
   "metadata": {},
   "outputs": [],
   "source": [
    "import numpy as np\n",
    "\n",
    "from Utils import *\n",
    "from constants import *\n",
    "\n",
    "from Environment import *\n",
    "from Non_Stationary_Environment import *\n",
    "\n",
    "from Social_influence import *\n",
    "from Network import Network\n",
    "\n",
    "from Simulation import *\n",
    "\n",
    "from Ecommerce import *\n",
    "from Ecommerce3 import *\n",
    "from Ecommerce4 import *\n",
    "from Ecommerce5 import *\n",
    "from Ecommerce6 import *\n",
    "from step7.Ecommerce7 import*"
   ]
  },
  {
   "cell_type": "markdown",
   "metadata": {},
   "source": [
    "## Plot learned functions in GP"
   ]
  },
  {
   "cell_type": "code",
   "execution_count": null,
   "metadata": {},
   "outputs": [],
   "source": [
    "graph_weights, alpha_bars, product_prices, users_reservation_prices, \\\n",
    "    observations_probabilities, users_poisson_parameters = setup_environment()\n",
    "\n",
    "env = Environment(users_reservation_prices, graph_weights, alpha_bars)\n",
    "\n",
    "ecomm = Ecommerce(B_cap, budgets, product_prices)\n",
    "ecomm3_gpts = Ecommerce3_GPTS(B_cap, budgets, product_prices)\n",
    "ecomm3_gpucb = Ecommerce3_GPUCB(B_cap, budgets, product_prices)\n",
    "\n",
    "for t in tqdm(range(0, T), position = 0, desc=\"n_iteration\"):\n",
    "    # Every day a new montecarlo simulation must be run to sample num of items sold\n",
    "    num_sold_items = estimate_nodes_activation_probabilities(\n",
    "        env.network.get_adjacency_matrix(),\n",
    "        env.users_reservation_prices,\n",
    "        users_poisson_parameters,\n",
    "        product_prices,\n",
    "        observations_probabilities\n",
    "    )\n",
    "\n",
    "    expected_reward = env.compute_clairvoyant_reward(\n",
    "        num_sold_items,\n",
    "        product_prices,\n",
    "        budgets\n",
    "    )     \n",
    "\n",
    "    # aggregation is needed since in this step the ecommerce\n",
    "    # cannot observe the users classes features\n",
    "    aggregated_num_sold_items = np.sum(num_sold_items, axis = 0)\n",
    "\n",
    "    arm, arm_idxs = ecomm3_gpts.pull_arm(aggregated_num_sold_items)\n",
    "    # the environment returns the users_alpha and the reward for that allocation\n",
    "    alpha, _ = env.round_step3(pulled_arm = arm, pulled_arm_idxs = arm_idxs)\n",
    "    ecomm3_gpts.update(arm_idxs, alpha)\n",
    "\n",
    "    arm, arm_idxs = ecomm3_gpucb.pull_arm(aggregated_num_sold_items)\n",
    "    alpha, _ = env.round_step3(pulled_arm = arm, pulled_arm_idxs = arm_idxs)\n",
    "    ecomm3_gpucb.update(arm_idxs, alpha)\n",
    "\n",
    "plot_learned_functions(ecomm3_gpts, ecomm3_gpucb, env)"
   ]
  },
  {
   "cell_type": "markdown",
   "metadata": {},
   "source": [
    "# --------"
   ]
  },
  {
   "cell_type": "code",
   "execution_count": 1,
   "metadata": {},
   "outputs": [],
   "source": [
    "import numpy as np\n",
    "\n",
    "from Utils import *\n",
    "from constants import *\n",
    "\n",
    "from Environment import *\n",
    "from Non_Stationary_Environment import *\n",
    "\n",
    "from Social_influence import *\n",
    "from Network import Network\n",
    "\n",
    "from Simulation import *\n",
    "\n",
    "from Ecommerce import *\n",
    "from Ecommerce3 import *\n",
    "from Ecommerce4 import *\n",
    "from Ecommerce5 import *\n",
    "from Ecommerce6 import *\n",
    "from step7.Ecommerce7 import*"
   ]
  },
  {
   "cell_type": "markdown",
   "metadata": {},
   "source": [
    "## Step 3"
   ]
  },
  {
   "cell_type": "code",
   "execution_count": null,
   "metadata": {},
   "outputs": [],
   "source": [
    "gpts_rewards_per_experiment, gpucb_rewards_per_experiment, opts = simulate_step3()\n",
    "plot_regrets(gpts_rewards_per_experiment, gpucb_rewards_per_experiment, opts, [\"GPTS\", \"GPUCB\"])"
   ]
  },
  {
   "cell_type": "markdown",
   "metadata": {},
   "source": [
    "## Step 4"
   ]
  },
  {
   "cell_type": "code",
   "execution_count": null,
   "metadata": {},
   "outputs": [],
   "source": [
    "gpts_rewards_per_experiment, gpucb_rewards_per_experiment, opts = simulate_step4()\n",
    "plot_regrets(gpts_rewards_per_experiment, gpucb_rewards_per_experiment, opts, [\"GPTS\", \"GPUCB\"])"
   ]
  },
  {
   "cell_type": "markdown",
   "metadata": {},
   "source": [
    "## Step 5"
   ]
  },
  {
   "cell_type": "code",
   "execution_count": null,
   "metadata": {},
   "outputs": [],
   "source": [
    "gpts_rewards_per_experiment, gpucb_rewards_per_experiment, opts = simulate_step5()\n",
    "plot_regrets(gpts_rewards_per_experiment, gpucb_rewards_per_experiment, opts, [\"GPTS\", \"GPUCB\"])"
   ]
  },
  {
   "cell_type": "markdown",
   "metadata": {},
   "source": [
    "## Step 6"
   ]
  },
  {
   "cell_type": "code",
   "execution_count": 2,
   "metadata": {},
   "outputs": [
    {
     "name": "stdout",
     "output_type": "stream",
     "text": [
      "Experiment n° 1\n"
     ]
    },
    {
     "ename": "ValueError",
     "evalue": "setting an array element with a sequence.",
     "output_type": "error",
     "traceback": [
      "\u001b[1;31m---------------------------------------------------------------------------\u001b[0m",
      "\u001b[1;31mTypeError\u001b[0m                                 Traceback (most recent call last)",
      "\u001b[1;31mTypeError\u001b[0m: only size-1 arrays can be converted to Python scalars",
      "\nThe above exception was the direct cause of the following exception:\n",
      "\u001b[1;31mValueError\u001b[0m                                Traceback (most recent call last)",
      "Cell \u001b[1;32mIn [2], line 1\u001b[0m\n\u001b[1;32m----> 1\u001b[0m swucb_rewards_per_experiment, cducb_rewards_per_experiment, opts \u001b[38;5;241m=\u001b[39m \u001b[43msimulate_step6\u001b[49m\u001b[43m(\u001b[49m\u001b[43m)\u001b[49m\n\u001b[0;32m      2\u001b[0m plot_regrets(swucb_rewards_per_experiment, cducb_rewards_per_experiment, opts, [\u001b[38;5;124m\"\u001b[39m\u001b[38;5;124mSWUCB\u001b[39m\u001b[38;5;124m\"\u001b[39m, \u001b[38;5;124m\"\u001b[39m\u001b[38;5;124mCDUCB\u001b[39m\u001b[38;5;124m\"\u001b[39m])\n",
      "File \u001b[1;32md:\\projects\\OLA_project\\src\\Simulation.py:403\u001b[0m, in \u001b[0;36msimulate_step6\u001b[1;34m()\u001b[0m\n\u001b[0;32m    400\u001b[0m \u001b[39mfor\u001b[39;00m e \u001b[39min\u001b[39;00m \u001b[39mrange\u001b[39m(\u001b[39m0\u001b[39m, n_experiments):\n\u001b[0;32m    401\u001b[0m     \u001b[39mprint\u001b[39m(\u001b[39m'\u001b[39m\u001b[39mExperiment n°\u001b[39m\u001b[39m'\u001b[39m, e\u001b[39m+\u001b[39m\u001b[39m1\u001b[39m)\n\u001b[1;32m--> 403\u001b[0m     graph_weights, nodes_activation_probabilities, alpha_bars, product_prices, num_sold_items, product_functions_idxs, users_reservation_prices, users_poisson_parameters \u001b[39m=\u001b[39m setup_non_stationaty_environment()\n\u001b[0;32m    405\u001b[0m     env \u001b[39m=\u001b[39m Non_Stationary_Environment(\n\u001b[0;32m    406\u001b[0m         users_reservation_prices, product_functions_idxs, graph_weights,\n\u001b[0;32m    407\u001b[0m         alpha_bars, num_sold_items, nodes_activation_probabilities, users_poisson_parameters, T\n\u001b[0;32m    408\u001b[0m     )\n\u001b[0;32m    410\u001b[0m     ecomm6_swucb \u001b[39m=\u001b[39m Ecommerce6_SWUCB(B_cap, budgets, product_prices, tau)\n",
      "File \u001b[1;32md:\\projects\\OLA_project\\src\\Simulation.py:147\u001b[0m, in \u001b[0;36msetup_non_stationaty_environment\u001b[1;34m()\u001b[0m\n\u001b[0;32m    144\u001b[0m users_poisson_parameters\u001b[39m.\u001b[39mappend(single_users_poisson_parameters)\n\u001b[0;32m    145\u001b[0m alpha_bars\u001b[39m.\u001b[39mappend(alpha_bar)\n\u001b[1;32m--> 147\u001b[0m estimation \u001b[39m=\u001b[39m estimate_nodes_activation_probabilities(\n\u001b[0;32m    148\u001b[0m     graph_weights,\n\u001b[0;32m    149\u001b[0m     scenario\u001b[39m.\u001b[39;49musers_reservation_prices,\n\u001b[0;32m    150\u001b[0m     users_poisson_parameters,\n\u001b[0;32m    151\u001b[0m     product_prices,\n\u001b[0;32m    152\u001b[0m     observations_probabilities\n\u001b[0;32m    153\u001b[0m )\n\u001b[0;32m    154\u001b[0m nodes_activation_probabilities\u001b[39m.\u001b[39mappend(estimation[\u001b[39m0\u001b[39m])\n\u001b[0;32m    155\u001b[0m num_sold_items\u001b[39m.\u001b[39mappend(estimation[\u001b[39m1\u001b[39m])\n",
      "File \u001b[1;32md:\\projects\\OLA_project\\src\\Social_influence.py:24\u001b[0m, in \u001b[0;36mestimate_nodes_activation_probabilities\u001b[1;34m(click_probabilities, users_reservation_prices, users_poisson_parameters, product_prices, observations_probabilities)\u001b[0m\n\u001b[0;32m     22\u001b[0m     \u001b[39mfor\u001b[39;00m node \u001b[39min\u001b[39;00m \u001b[39mrange\u001b[39m(NUM_OF_PRODUCTS):     \u001b[39m# 5\u001b[39;00m\n\u001b[0;32m     23\u001b[0m         \u001b[39mfor\u001b[39;00m _ \u001b[39min\u001b[39;00m \u001b[39mrange\u001b[39m(k):\n\u001b[1;32m---> 24\u001b[0m             sold_items \u001b[39m=\u001b[39m generate_live_edge_graph(\n\u001b[0;32m     25\u001b[0m                 seed\u001b[39m=\u001b[39;49mnode,\n\u001b[0;32m     26\u001b[0m                 click_probabilities\u001b[39m=\u001b[39;49mclick_probabilities,\n\u001b[0;32m     27\u001b[0m                 users_reservation_prices\u001b[39m=\u001b[39;49musers_reservation_prices[user_class],\n\u001b[0;32m     28\u001b[0m                 users_poisson_parameters\u001b[39m=\u001b[39;49musers_poisson_parameters[user_class],\n\u001b[0;32m     29\u001b[0m                 product_prices\u001b[39m=\u001b[39;49mproduct_prices,\n\u001b[0;32m     30\u001b[0m                 observations_probabilities\u001b[39m=\u001b[39;49mobservations_probabilities\n\u001b[0;32m     31\u001b[0m             )\n\u001b[0;32m     32\u001b[0m             num_sold_items[user_class][node] \u001b[39m=\u001b[39m np\u001b[39m.\u001b[39madd(num_sold_items[user_class][node], sold_items)\n\u001b[0;32m     34\u001b[0m \u001b[39mreturn\u001b[39;00m (num_sold_items \u001b[39m/\u001b[39m k)\u001b[39m.\u001b[39mastype(\u001b[39mint\u001b[39m)\n",
      "File \u001b[1;32md:\\projects\\OLA_project\\src\\Social_influence.py:71\u001b[0m, in \u001b[0;36mgenerate_live_edge_graph\u001b[1;34m(seed, click_probabilities, users_reservation_prices, users_poisson_parameters, product_prices, observations_probabilities)\u001b[0m\n\u001b[0;32m     62\u001b[0m \u001b[39m# we use a binomial realization to simulate if a user landed on the product page buys that item\u001b[39;00m\n\u001b[0;32m     63\u001b[0m \u001b[39mif\u001b[39;00m np\u001b[39m.\u001b[39mrandom\u001b[39m.\u001b[39mbinomial( \n\u001b[0;32m     64\u001b[0m     n\u001b[39m=\u001b[39m\u001b[39m1\u001b[39m,\n\u001b[0;32m     65\u001b[0m     p\u001b[39m=\u001b[39m \u001b[39mmin\u001b[39m(users_reservation_prices[primary_product] \u001b[39m/\u001b[39m product_prices[primary_product], \u001b[39m1\u001b[39m),\n\u001b[1;32m   (...)\u001b[0m\n\u001b[0;32m     69\u001b[0m     \u001b[39m# subsequently, in the case of a purchase, the number of units to buy.\u001b[39;00m\n\u001b[0;32m     70\u001b[0m     \u001b[39m# We model this number of units with a poisson random variable.\u001b[39;00m\n\u001b[1;32m---> 71\u001b[0m     bought_items[primary_product] \u001b[39m+\u001b[39m\u001b[39m=\u001b[39m np\u001b[39m.\u001b[39mrandom\u001b[39m.\u001b[39mpoisson(\n\u001b[0;32m     72\u001b[0m         lam\u001b[39m=\u001b[39musers_poisson_parameters[primary_product])\n\u001b[0;32m     74\u001b[0m     \u001b[39mfor\u001b[39;00m idxs \u001b[39min\u001b[39;00m np\u001b[39m.\u001b[39margwhere(slots):\n\u001b[0;32m     75\u001b[0m         \n\u001b[0;32m     76\u001b[0m         \u001b[39m# the user clicks on a secondary product with a probability depending on the primary product\u001b[39;00m\n\u001b[0;32m     77\u001b[0m         \u001b[39m# except when the secondary product has been already displayed as primary in the past\u001b[39;00m\n\u001b[0;32m     78\u001b[0m         \u001b[39mif\u001b[39;00m idxs[\u001b[39m0\u001b[39m] \u001b[39mnot\u001b[39;00m \u001b[39min\u001b[39;00m has_been_primary \u001b[39mand\u001b[39;00m np\u001b[39m.\u001b[39mrandom\u001b[39m.\u001b[39mbinomial(n\u001b[39m=\u001b[39m\u001b[39m1\u001b[39m, p\u001b[39m=\u001b[39mslots[idxs[\u001b[39m0\u001b[39m]]) :\n",
      "\u001b[1;31mValueError\u001b[0m: setting an array element with a sequence."
     ]
    }
   ],
   "source": [
    "swucb_rewards_per_experiment, cducb_rewards_per_experiment, opts = simulate_step6()\n",
    "plot_regrets(swucb_rewards_per_experiment, cducb_rewards_per_experiment, opts, [\"SWUCB\", \"CDUCB\"])"
   ]
  },
  {
   "cell_type": "markdown",
   "metadata": {},
   "source": [
    "## Step 7"
   ]
  },
  {
   "cell_type": "code",
   "execution_count": null,
   "metadata": {},
   "outputs": [],
   "source": [
    "gpts_rewards_per_experiment, gpucb_rewards_per_experiment, opts = simulate_step7()\n",
    "plot_regrets(gpts_rewards_per_experiment, gpucb_rewards_per_experiment, opts, [\"GPTS\", \"GPUCB\"])"
   ]
  }
 ],
 "metadata": {
  "kernelspec": {
   "display_name": "Python 3.10.1 64-bit",
   "language": "python",
   "name": "python3"
  },
  "language_info": {
   "codemirror_mode": {
    "name": "ipython",
    "version": 3
   },
   "file_extension": ".py",
   "mimetype": "text/x-python",
   "name": "python",
   "nbconvert_exporter": "python",
   "pygments_lexer": "ipython3",
   "version": "3.10.1"
  },
  "vscode": {
   "interpreter": {
    "hash": "369f2c481f4da34e4445cda3fffd2e751bd1c4d706f27375911949ba6bb62e1c"
   }
  }
 },
 "nbformat": 4,
 "nbformat_minor": 2
}
