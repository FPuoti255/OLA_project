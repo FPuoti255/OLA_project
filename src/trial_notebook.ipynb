{
 "cells": [
  {
   "cell_type": "code",
   "execution_count": 1,
   "metadata": {},
   "outputs": [],
   "source": [
    "# Lasciate questa cella così ogni volta che aggiornate un file python, \n",
    "# anche gli import nel notebook vengono aggiornati\n",
    "\n",
    "%load_ext autoreload\n",
    "%autoreload 2"
   ]
  },
  {
   "cell_type": "code",
   "execution_count": 2,
   "metadata": {},
   "outputs": [],
   "source": [
    "import numpy as np\n",
    "\n",
    "from Utils import *\n",
    "from constants import *\n",
    "\n",
    "from Environment import *\n",
    "from Non_Stationary_Environment import *\n",
    "\n",
    "from Social_influence import *\n",
    "from Network import Network\n",
    "\n",
    "from Simulation import *\n",
    "\n",
    "from Ecommerce import *\n",
    "from Ecommerce3 import *\n",
    "from Ecommerce4 import *\n",
    "from Ecommerce5 import *\n",
    "from Ecommerce6 import *\n",
    "from step7.Ecommerce7 import*"
   ]
  },
  {
   "cell_type": "markdown",
   "metadata": {},
   "source": [
    "## Step 2"
   ]
  },
  {
   "cell_type": "code",
   "execution_count": 3,
   "metadata": {},
   "outputs": [
    {
     "name": "stdout",
     "output_type": "stream",
     "text": [
      "optimal allocation is: [60. 60. 20. 60.  0.] with a reward of: 457\n",
      "estimated_opt_allocation is: [60. 60. 20. 60.  0.] with a reward of: 457\n"
     ]
    }
   ],
   "source": [
    "simulate_step2()"
   ]
  },
  {
   "cell_type": "markdown",
   "metadata": {},
   "source": [
    "## Step 3"
   ]
  },
  {
   "cell_type": "code",
   "execution_count": null,
   "metadata": {},
   "outputs": [],
   "source": [
    "gpts_rewards_per_experiment, gpucb_rewards_per_experiment, opts = simulate_step3()\n",
    "plot_regrets(gpts_rewards_per_experiment, gpucb_rewards_per_experiment, opts, [\"GPTS\", \"GPUCB\"])"
   ]
  },
  {
   "cell_type": "markdown",
   "metadata": {},
   "source": [
    "## Step 4"
   ]
  },
  {
   "cell_type": "code",
   "execution_count": 11,
   "metadata": {},
   "outputs": [
    {
     "name": "stderr",
     "output_type": "stream",
     "text": [
      "                                                           \r"
     ]
    }
   ],
   "source": [
    "gpts_rewards_per_experiment, gpucb_rewards_per_experiment, opts = simulate_step4()\n",
    "plot_regrets(gpts_rewards_per_experiment, gpucb_rewards_per_experiment, opts, [\"GPTS\", \"GPUCB\"])"
   ]
  },
  {
   "cell_type": "markdown",
   "metadata": {},
   "source": [
    "## Step 5"
   ]
  },
  {
   "cell_type": "code",
   "execution_count": null,
   "metadata": {},
   "outputs": [],
   "source": [
    "gpucb_rewards_per_experiment, gpts_rewards_per_experiment, opts = simulate_step5()\n",
    "plot_regrets(gpts_rewards_per_experiment, gpucb_rewards_per_experiment, opts, [\"GPTS\", \"GPUCB\"])"
   ]
  },
  {
   "cell_type": "markdown",
   "metadata": {},
   "source": [
    "## Step 6"
   ]
  },
  {
   "cell_type": "code",
   "execution_count": null,
   "metadata": {},
   "outputs": [],
   "source": [
    "swucb_rewards_per_experiment, cducb_rewards_per_experiment, opts = simulate_step6()\n",
    "plot_regrets(swucb_rewards_per_experiment, cducb_rewards_per_experiment, opts, [\"SWUCB\", \"CDUCB\"])"
   ]
  },
  {
   "cell_type": "markdown",
   "metadata": {},
   "source": [
    "## Step 7"
   ]
  },
  {
   "cell_type": "code",
   "execution_count": 3,
   "metadata": {},
   "outputs": [],
   "source": [
    "B_cap = 100\n",
    "budgets = np.arange(start=0, stop=B_cap + 1, step=5)"
   ]
  },
  {
   "cell_type": "code",
   "execution_count": 4,
   "metadata": {},
   "outputs": [],
   "source": [
    "env, observations_probabilities, click_probabilities, product_prices,\\\n",
    "    users_reservation_prices, users_poisson_parameters = generate_new_environment()"
   ]
  },
  {
   "cell_type": "code",
   "execution_count": 5,
   "metadata": {},
   "outputs": [],
   "source": [
    "nodes_activation_probabilities, num_sold_items = estimate_nodes_activation_probabilities(\n",
    "        click_probabilities,\n",
    "        users_reservation_prices,\n",
    "        users_poisson_parameters,\n",
    "        product_prices,\n",
    "        observations_probabilities\n",
    "    )"
   ]
  },
  {
   "cell_type": "code",
   "execution_count": 24,
   "metadata": {},
   "outputs": [],
   "source": [
    "aggr_exp_num_clicks = env.estimate_num_of_clicks(budgets / B_cap)"
   ]
  },
  {
   "cell_type": "code",
   "execution_count": 25,
   "metadata": {},
   "outputs": [
    {
     "data": {
      "text/plain": [
       "(array([20, 45, 20, 15,  0]), 391.05226280394925)"
      ]
     },
     "execution_count": 25,
     "metadata": {},
     "output_type": "execute_result"
    }
   ],
   "source": [
    "ecomm = Ecommerce(B_cap, budgets, product_prices)\n",
    "ecomm.solve_optimization_problem(num_sold_items, aggr_exp_num_clicks, nodes_activation_probabilities)"
   ]
  },
  {
   "cell_type": "code",
   "execution_count": 27,
   "metadata": {},
   "outputs": [],
   "source": [
    "\n",
    "num_of_items_sold_for_each_product = np.sum(\n",
    "    num_sold_items, axis=0)  # shape = 1x5\n",
    "\n",
    "\n",
    "total_margin_for_each_product = np.multiply(\n",
    "    num_of_items_sold_for_each_product, product_prices)  # shape = 1x5\n",
    "\n",
    "value_per_click = np.dot(\n",
    "    nodes_activation_probabilities, total_margin_for_each_product.T)\n",
    "\n",
    "value_per_click = np.repeat(value_per_click, aggr_exp_num_clicks.shape[-1], axis = -1).reshape(aggr_exp_num_clicks.shape)\n",
    "\n",
    "exp_reward = np.multiply(aggr_exp_num_clicks, value_per_click)\n",
    "\n",
    "values = exp_reward.ravel()\n",
    "weights = np.tile(budgets, reps = NUM_OF_PRODUCTS)\n"
   ]
  },
  {
   "cell_type": "code",
   "execution_count": 6,
   "metadata": {},
   "outputs": [],
   "source": [
    "dis_exp_num_clicks = env.estimate_disaggregated_num_clicks(budgets/B_cap)"
   ]
  },
  {
   "cell_type": "code",
   "execution_count": 7,
   "metadata": {},
   "outputs": [],
   "source": [
    "tot_margin_per_product = np.multiply(num_sold_items, product_prices) # NUM_OF_USER_CLASSES x NUM_OF_PRODUCTS\n",
    "\n",
    "value_per_click = np.dot(tot_margin_per_product, nodes_activation_probabilities.T) # NUM_OF_USER_CLASSES x NUM_OF_PRODUCT\n",
    "\n",
    "value_per_click = np.repeat(value_per_click, dis_exp_num_clicks.shape[-1], axis = -1).reshape(dis_exp_num_clicks.shape)\n",
    "\n",
    "exp_reward = np.multiply(dis_exp_num_clicks, value_per_click).reshape((NUM_OF_USERS_CLASSES*NUM_OF_PRODUCTS, budgets.shape[0]))\n",
    "\n",
    "values = exp_reward.ravel()\n",
    "weights = np.tile(budgets, reps = NUM_OF_USERS_CLASSES* NUM_OF_PRODUCTS)"
   ]
  },
  {
   "cell_type": "code",
   "execution_count": 28,
   "metadata": {},
   "outputs": [],
   "source": [
    "from functools import lru_cache\n",
    "\n",
    "class knapsack:\n",
    "    def __init__(self, cost, reward):\n",
    "        assert(cost.shape == reward.shape)\n",
    "        self.cost = cost\n",
    "        self.reward = reward\n",
    "\n",
    "    @lru_cache(maxsize=4096)\n",
    "    def solve(self, cap, i=0):\n",
    "        if cap < 0:\n",
    "            return -sum(self.reward), []\n",
    "        if i == len(self.cost):\n",
    "            return 0, []\n",
    "        res1 = self.solve(cap, i + 1)\n",
    "        res2 = self.solve(cap - self.cost[i], i + 1)\n",
    "        res2 = (res2[0] + self.reward[i], [i] + res2[1])\n",
    "        return res1 if res1[0] >= res2[0] else res2\n"
   ]
  },
  {
   "cell_type": "code",
   "execution_count": 29,
   "metadata": {},
   "outputs": [
    {
     "data": {
      "text/plain": [
       "(943.5829791152217, [1, 2, 3, 4, 5, 65, 66])"
      ]
     },
     "execution_count": 29,
     "metadata": {},
     "output_type": "execute_result"
    }
   ],
   "source": [
    "reward, optimal_allocation = knapsack(weights, values).solve(B_cap)"
   ]
  },
  {
   "cell_type": "code",
   "execution_count": 22,
   "metadata": {},
   "outputs": [
    {
     "data": {
      "text/plain": [
       "155.6871144159362"
      ]
     },
     "execution_count": 22,
     "metadata": {},
     "output_type": "execute_result"
    }
   ],
   "source": [
    "reward"
   ]
  },
  {
   "cell_type": "code",
   "execution_count": 19,
   "metadata": {},
   "outputs": [],
   "source": [
    "rows, cols = np.unravel_index(optimal_allocation, shape=exp_reward.shape)"
   ]
  },
  {
   "cell_type": "code",
   "execution_count": 20,
   "metadata": {},
   "outputs": [],
   "source": [
    "indices = list(zip(rows, cols))"
   ]
  },
  {
   "cell_type": "code",
   "execution_count": 21,
   "metadata": {},
   "outputs": [
    {
     "data": {
      "text/plain": [
       "[(0, 4), (5, 1), (5, 2), (5, 3), (5, 4), (8, 1), (8, 4), (13, 1)]"
      ]
     },
     "execution_count": 21,
     "metadata": {},
     "output_type": "execute_result"
    }
   ],
   "source": [
    "indices"
   ]
  },
  {
   "cell_type": "code",
   "execution_count": 23,
   "metadata": {},
   "outputs": [
    {
     "name": "stdout",
     "output_type": "stream",
     "text": [
      "25.220895077178213\n",
      "11.97838958083163\n",
      "26.03085867160024\n",
      "27.7188915117803\n",
      "27.7188915117803\n",
      "6.9488963651783235\n",
      "23.814735471392112\n",
      "6.2555562261950906\n"
     ]
    }
   ],
   "source": [
    "for idx in indices:\n",
    "    print(exp_reward[idx])"
   ]
  },
  {
   "cell_type": "code",
   "execution_count": 140,
   "metadata": {},
   "outputs": [
    {
     "data": {
      "text/plain": [
       "(9, 2, 21)"
      ]
     },
     "execution_count": 140,
     "metadata": {},
     "output_type": "execute_result"
    }
   ],
   "source": [
    "exp_reward[indices].shape"
   ]
  },
  {
   "cell_type": "code",
   "execution_count": null,
   "metadata": {},
   "outputs": [],
   "source": []
  }
 ],
 "metadata": {
  "kernelspec": {
   "display_name": "Python 3.9.13 ('ola-project-8LfWcEjO-py3.9')",
   "language": "python",
   "name": "python3"
  },
  "language_info": {
   "codemirror_mode": {
    "name": "ipython",
    "version": 3
   },
   "file_extension": ".py",
   "mimetype": "text/x-python",
   "name": "python",
   "nbconvert_exporter": "python",
   "pygments_lexer": "ipython3",
   "version": "3.9.14"
  },
  "vscode": {
   "interpreter": {
    "hash": "de57e29cc654ebd9fe415b8f06da5735bf250a61da6652d02ce0167dbae41596"
   }
  }
 },
 "nbformat": 4,
 "nbformat_minor": 2
}
