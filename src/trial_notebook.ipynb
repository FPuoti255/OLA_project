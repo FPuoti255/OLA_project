{
 "cells": [
  {
   "cell_type": "code",
   "execution_count": 1,
   "metadata": {},
   "outputs": [],
   "source": [
    "# Lasciate questa cella così ogni volta che aggiornate un file python, \n",
    "# anche gli import nel notebook vengono aggiornati\n",
    "\n",
    "%load_ext autoreload\n",
    "%autoreload 2"
   ]
  },
  {
   "cell_type": "code",
   "execution_count": 92,
   "metadata": {},
   "outputs": [],
   "source": [
    "import numpy as np\n",
    "\n",
    "from Utils import *\n",
    "from constants import *\n",
    "\n",
    "from Environment import *\n",
    "from Non_Stationary_Environment import *\n",
    "\n",
    "from Social_influence import *\n",
    "from Network import Network\n",
    "\n",
    "from Simulation import *\n",
    "\n",
    "from Ecommerce import *\n",
    "from Ecommerce3 import *\n",
    "from Ecommerce4 import *\n",
    "from Ecommerce5 import *\n",
    "from Ecommerce6 import *"
   ]
  },
  {
   "cell_type": "markdown",
   "metadata": {},
   "source": [
    "## Step 2"
   ]
  },
  {
   "cell_type": "code",
   "execution_count": 3,
   "metadata": {},
   "outputs": [
    {
     "name": "stdout",
     "output_type": "stream",
     "text": [
      "optimal allocation is: [60. 60. 20. 60.  0.] with a reward of: 457\n",
      "estimated_opt_allocation is: [60. 60. 20. 60.  0.] with a reward of: 457\n"
     ]
    }
   ],
   "source": [
    "simulate_step2()"
   ]
  },
  {
   "cell_type": "markdown",
   "metadata": {},
   "source": [
    "## Step 3"
   ]
  },
  {
   "cell_type": "code",
   "execution_count": null,
   "metadata": {},
   "outputs": [],
   "source": [
    "gpts_rewards_per_experiment, gpucb_rewards_per_experiment, opts = simulate_step3()\n",
    "plot_regrets(gpts_rewards_per_experiment, gpucb_rewards_per_experiment, opts, [\"GPTS\", \"GPUCB\"])"
   ]
  },
  {
   "cell_type": "markdown",
   "metadata": {},
   "source": [
    "## Step 4"
   ]
  },
  {
   "cell_type": "code",
   "execution_count": 11,
   "metadata": {},
   "outputs": [
    {
     "name": "stderr",
     "output_type": "stream",
     "text": [
      "                                                           \r"
     ]
    }
   ],
   "source": [
    "gpts_rewards_per_experiment, gpucb_rewards_per_experiment, opts = simulate_step4()\n",
    "plot_regrets(gpts_rewards_per_experiment, gpucb_rewards_per_experiment, opts, [\"GPTS\", \"GPUCB\"])"
   ]
  },
  {
   "cell_type": "markdown",
   "metadata": {},
   "source": [
    "## Step 5"
   ]
  },
  {
   "cell_type": "code",
   "execution_count": null,
   "metadata": {},
   "outputs": [],
   "source": [
    "gpucb_rewards_per_experiment, gpts_rewards_per_experiment, opts = simulate_step5()\n",
    "plot_regrets(gpts_rewards_per_experiment, gpucb_rewards_per_experiment, opts, [\"GPTS\", \"GPUCB\"])"
   ]
  },
  {
   "cell_type": "markdown",
   "metadata": {},
   "source": [
    "## Step 6"
   ]
  },
  {
   "cell_type": "code",
   "execution_count": null,
   "metadata": {},
   "outputs": [],
   "source": [
    "swucb_rewards_per_experiment, cducb_rewards_per_experiment, opts = simulate_step6()\n",
    "plot_regrets(swucb_rewards_per_experiment, cducb_rewards_per_experiment, opts, [\"SWUCB\", \"CDUCB\"])"
   ]
  },
  {
   "cell_type": "markdown",
   "metadata": {},
   "source": [
    "## Step 7"
   ]
  },
  {
   "cell_type": "code",
   "execution_count": 101,
   "metadata": {},
   "outputs": [],
   "source": [
    "B_cap = 100\n",
    "budgets = np.arange(start=0, stop=B_cap + 1, step=5)"
   ]
  },
  {
   "cell_type": "code",
   "execution_count": 102,
   "metadata": {},
   "outputs": [],
   "source": [
    "env, observations_probabilities, click_probabilities, product_prices,\\\n",
    "    users_reservation_prices, users_poisson_parameters = generate_new_environment()"
   ]
  },
  {
   "cell_type": "code",
   "execution_count": 103,
   "metadata": {},
   "outputs": [],
   "source": [
    "nodes_activation_probabilities, num_sold_items = estimate_nodes_activation_probabilities(\n",
    "        click_probabilities,\n",
    "        users_reservation_prices,\n",
    "        users_poisson_parameters,\n",
    "        product_prices,\n",
    "        observations_probabilities\n",
    "    )"
   ]
  },
  {
   "cell_type": "code",
   "execution_count": 105,
   "metadata": {},
   "outputs": [],
   "source": [
    "dis_exp_num_clicks = env.estimate_disaggregated_num_clicks(budgets/B_cap)"
   ]
  },
  {
   "cell_type": "code",
   "execution_count": 106,
   "metadata": {},
   "outputs": [],
   "source": [
    "aggr_exp_num_clicks = env.estimate_num_of_clicks(budgets/B_cap)"
   ]
  },
  {
   "cell_type": "code",
   "execution_count": 107,
   "metadata": {},
   "outputs": [
    {
     "name": "stdout",
     "output_type": "stream",
     "text": [
      "(array([10, 55, 20, 15,  0]), 477.9532094248543)\n"
     ]
    }
   ],
   "source": [
    "ecomm = Ecommerce(B_cap, budgets, product_prices)\n",
    "print(ecomm.solve_optimization_problem(num_sold_items, aggr_exp_num_clicks, nodes_activation_probabilities))"
   ]
  },
  {
   "cell_type": "code",
   "execution_count": 108,
   "metadata": {},
   "outputs": [
    {
     "name": "stdout",
     "output_type": "stream",
     "text": [
      "(array([[ 0,  0,  0,  5,  0],\n",
      "       [10,  0, 20, 20,  0],\n",
      "       [ 0,  0,  0,  5,  0]]), 28.209127094482923)\n"
     ]
    }
   ],
   "source": [
    "ecomm = Ecommerce(B_cap, budgets, product_prices)\n",
    "print(ecomm.solve_disaggregated_optimization_problem(num_sold_items, dis_exp_num_clicks, nodes_activation_probabilities))"
   ]
  },
  {
   "cell_type": "code",
   "execution_count": 109,
   "metadata": {},
   "outputs": [
    {
     "name": "stdout",
     "output_type": "stream",
     "text": [
      "(array([15, 40, 20,  5,  0]), 76.76420991153478)\n",
      "(array([10, 40, 20, 20,  0]), 125.43946596548119)\n",
      "(array([ 0, 55, 25, 20,  0]), 146.1456479942379)\n"
     ]
    }
   ],
   "source": [
    "ecomm = Ecommerce(B_cap, budgets, product_prices)\n",
    "for i in range(3):\n",
    "    print(ecomm.solve_optimization_problem(num_sold_items, dis_exp_num_clicks[i], nodes_activation_probabilities))"
   ]
  },
  {
   "cell_type": "code",
   "execution_count": null,
   "metadata": {},
   "outputs": [],
   "source": []
  }
 ],
 "metadata": {
  "kernelspec": {
   "display_name": "Python 3.9.13 ('ola-project-8LfWcEjO-py3.9')",
   "language": "python",
   "name": "python3"
  },
  "language_info": {
   "codemirror_mode": {
    "name": "ipython",
    "version": 3
   },
   "file_extension": ".py",
   "mimetype": "text/x-python",
   "name": "python",
   "nbconvert_exporter": "python",
   "pygments_lexer": "ipython3",
   "version": "3.9.14"
  },
  "vscode": {
   "interpreter": {
    "hash": "de57e29cc654ebd9fe415b8f06da5735bf250a61da6652d02ce0167dbae41596"
   }
  }
 },
 "nbformat": 4,
 "nbformat_minor": 2
}
