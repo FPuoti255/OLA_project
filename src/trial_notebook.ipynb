{
 "cells": [
  {
   "cell_type": "code",
   "execution_count": 1,
   "metadata": {},
   "outputs": [],
   "source": [
    "# Lasciate questa cella così ogni volta che aggiornate un file python, \n",
    "# anche gli import nel notebook vengono aggiornati\n",
    "\n",
    "%load_ext autoreload\n",
    "%autoreload 2"
   ]
  },
  {
   "cell_type": "code",
   "execution_count": 2,
   "metadata": {},
   "outputs": [],
   "source": [
    "import numpy as np\n",
    "\n",
    "from Utils import *\n",
    "from constants import *\n",
    "\n",
    "from Environment import *\n",
    "from Non_Stationary_Environment import *\n",
    "\n",
    "from Social_influence import *\n",
    "from Network import Network\n",
    "\n",
    "from Simulation import *\n",
    "\n",
    "from Ecommerce import *\n",
    "from Ecommerce3 import *\n",
    "from Ecommerce4 import *\n",
    "from Ecommerce5 import *\n",
    "from Ecommerce6 import *\n",
    "from step7.Ecommerce7 import*"
   ]
  },
  {
   "cell_type": "markdown",
   "metadata": {},
   "source": [
    "## Step 3"
   ]
  },
  {
   "cell_type": "code",
   "execution_count": 3,
   "metadata": {},
   "outputs": [
    {
     "name": "stdout",
     "output_type": "stream",
     "text": [
      "Experiment n°: 0\n"
     ]
    },
    {
     "name": "stderr",
     "output_type": "stream",
     "text": [
      "n_iteration:   0%|          | 0/100 [00:01<?, ?it/s]\n"
     ]
    },
    {
     "ename": "KeyboardInterrupt",
     "evalue": "",
     "output_type": "error",
     "traceback": [
      "\u001b[1;31m---------------------------------------------------------------------------\u001b[0m",
      "\u001b[1;31mKeyboardInterrupt\u001b[0m                         Traceback (most recent call last)",
      "Cell \u001b[1;32mIn [3], line 1\u001b[0m\n\u001b[1;32m----> 1\u001b[0m gpts_rewards_per_experiment, gpucb_rewards_per_experiment, opts \u001b[38;5;241m=\u001b[39m \u001b[43msimulate_step3\u001b[49m\u001b[43m(\u001b[49m\u001b[43m)\u001b[49m\n\u001b[0;32m      2\u001b[0m plot_regrets(gpts_rewards_per_experiment, gpucb_rewards_per_experiment, opts, [\u001b[38;5;124m\"\u001b[39m\u001b[38;5;124mGP_TS\u001b[39m\u001b[38;5;124m\"\u001b[39m, \u001b[38;5;124m\"\u001b[39m\u001b[38;5;124mGP_UCB\u001b[39m\u001b[38;5;124m\"\u001b[39m])\n",
      "File \u001b[1;32md:\\projects\\OLA_project\\src\\Simulation.py:197\u001b[0m, in \u001b[0;36msimulate_step3\u001b[1;34m()\u001b[0m\n\u001b[0;32m    193\u001b[0m ecomm3_gpucb \u001b[39m=\u001b[39m Ecommerce3_GPUCB(B_cap, budgets, product_prices)\n\u001b[0;32m    195\u001b[0m \u001b[39mfor\u001b[39;00m t \u001b[39min\u001b[39;00m tqdm(\u001b[39mrange\u001b[39m(\u001b[39m0\u001b[39m, T), position \u001b[39m=\u001b[39m \u001b[39m0\u001b[39m, desc\u001b[39m=\u001b[39m\u001b[39m\"\u001b[39m\u001b[39mn_iteration\u001b[39m\u001b[39m\"\u001b[39m):\n\u001b[0;32m    196\u001b[0m     \u001b[39m# Every day a new montecarlo simulation must be run to sample num of items sold\u001b[39;00m\n\u001b[1;32m--> 197\u001b[0m     num_sold_items \u001b[39m=\u001b[39m estimate_nodes_activation_probabilities(\n\u001b[0;32m    198\u001b[0m         env\u001b[39m.\u001b[39;49mnetwork\u001b[39m.\u001b[39;49mget_adjacency_matrix(),\n\u001b[0;32m    199\u001b[0m         env\u001b[39m.\u001b[39;49musers_reservation_prices,\n\u001b[0;32m    200\u001b[0m         users_poisson_parameters,\n\u001b[0;32m    201\u001b[0m         product_prices,\n\u001b[0;32m    202\u001b[0m         observations_probabilities\n\u001b[0;32m    203\u001b[0m     )\n\u001b[0;32m    205\u001b[0m     log(\u001b[39m\"\u001b[39m\u001b[39mnum_sold_items:\u001b[39m\u001b[39m\\n\u001b[39;00m\u001b[39m\"\u001b[39m)\n\u001b[0;32m    206\u001b[0m     log(num_sold_items)\n",
      "File \u001b[1;32md:\\projects\\OLA_project\\src\\Social_influence.py:32\u001b[0m, in \u001b[0;36mestimate_nodes_activation_probabilities\u001b[1;34m(click_probabilities, users_reservation_prices, users_poisson_parameters, product_prices, observations_probabilities)\u001b[0m\n\u001b[0;32m     23\u001b[0m         \u001b[39mfor\u001b[39;00m _ \u001b[39min\u001b[39;00m \u001b[39mrange\u001b[39m(k):\n\u001b[0;32m     24\u001b[0m             sold_items \u001b[39m=\u001b[39m generate_live_edge_graph(\n\u001b[0;32m     25\u001b[0m                 seed\u001b[39m=\u001b[39mnode,\n\u001b[0;32m     26\u001b[0m                 click_probabilities\u001b[39m=\u001b[39mclick_probabilities,\n\u001b[1;32m   (...)\u001b[0m\n\u001b[0;32m     30\u001b[0m                 observations_probabilities\u001b[39m=\u001b[39mobservations_probabilities\n\u001b[0;32m     31\u001b[0m             )\n\u001b[1;32m---> 32\u001b[0m             num_sold_items[user_class][node] \u001b[39m=\u001b[39m np\u001b[39m.\u001b[39madd(num_sold_items[user_class][node], sold_items)\n\u001b[0;32m     34\u001b[0m \u001b[39mreturn\u001b[39;00m (num_sold_items \u001b[39m/\u001b[39m k)\u001b[39m.\u001b[39mastype(\u001b[39mint\u001b[39m)\n",
      "\u001b[1;31mKeyboardInterrupt\u001b[0m: "
     ]
    }
   ],
   "source": [
    "gpts_rewards_per_experiment, gpucb_rewards_per_experiment, opts = simulate_step3()\n",
    "plot_regrets(gpts_rewards_per_experiment, gpucb_rewards_per_experiment, opts, [\"GP_TS\", \"GP_UCB\"])"
   ]
  },
  {
   "cell_type": "markdown",
   "metadata": {},
   "source": [
    "## Step 4"
   ]
  },
  {
   "cell_type": "code",
   "execution_count": null,
   "metadata": {},
   "outputs": [],
   "source": [
    "gpts_rewards_per_experiment, gpucb_rewards_per_experiment, opts = simulate_step4()\n",
    "plot_regrets(gpts_rewards_per_experiment, gpucb_rewards_per_experiment, opts, [\"GP_TS\", \"GP_UCB\"])"
   ]
  },
  {
   "cell_type": "markdown",
   "metadata": {},
   "source": [
    "## Step 5"
   ]
  },
  {
   "cell_type": "code",
   "execution_count": null,
   "metadata": {},
   "outputs": [],
   "source": [
    "gpts_rewards_per_experiment, gpucb_rewards_per_experiment, opts = simulate_step5()\n",
    "plot_regrets(gpts_rewards_per_experiment, gpucb_rewards_per_experiment, opts, [\"GP_TS\", \"GP_UCB\"])"
   ]
  },
  {
   "cell_type": "markdown",
   "metadata": {},
   "source": [
    "## Step 6"
   ]
  },
  {
   "cell_type": "code",
   "execution_count": null,
   "metadata": {},
   "outputs": [],
   "source": [
    "swucb_rewards_per_experiment, cducb_rewards_per_experiment, opts = simulate_step6()\n",
    "plot_regrets(swucb_rewards_per_experiment, cducb_rewards_per_experiment, opts, [\"SW_UCB\", \"CD_UCB\"])"
   ]
  },
  {
   "cell_type": "markdown",
   "metadata": {},
   "source": [
    "## Step 7"
   ]
  },
  {
   "cell_type": "code",
   "execution_count": null,
   "metadata": {},
   "outputs": [],
   "source": [
    "gpts_rewards_per_experiment, gpucb_rewards_per_experiment, opts = simulate_step7()\n",
    "plot_regrets(gpts_rewards_per_experiment, gpucb_rewards_per_experiment, opts, [\"GP_TS\", \"GP_UCB\"])"
   ]
  },
  {
   "cell_type": "code",
   "execution_count": null,
   "metadata": {},
   "outputs": [],
   "source": []
  }
 ],
 "metadata": {
  "kernelspec": {
   "display_name": "Python 3.10.1 64-bit",
   "language": "python",
   "name": "python3"
  },
  "language_info": {
   "codemirror_mode": {
    "name": "ipython",
    "version": 3
   },
   "file_extension": ".py",
   "mimetype": "text/x-python",
   "name": "python",
   "nbconvert_exporter": "python",
   "pygments_lexer": "ipython3",
   "version": "3.10.1"
  },
  "vscode": {
   "interpreter": {
    "hash": "369f2c481f4da34e4445cda3fffd2e751bd1c4d706f27375911949ba6bb62e1c"
   }
  }
 },
 "nbformat": 4,
 "nbformat_minor": 2
}
